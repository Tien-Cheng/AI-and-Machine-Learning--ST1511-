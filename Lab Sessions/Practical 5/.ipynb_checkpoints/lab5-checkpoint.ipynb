{
 "cells": [
  {
   "cell_type": "code",
   "execution_count": 6,
   "id": "bf7b0d86",
   "metadata": {},
   "outputs": [],
   "source": [
    "import numpy as np\n",
    "import matplotlib.pyplot as plt\n",
    "import pandas as pd\n",
    "import seaborn as sns\n",
    "\n",
    "from sklearn.datasets import load_iris\n",
    "from sklearn.model_selection import train_test_split\n",
    "from sklearn.svm import SVC"
   ]
  },
  {
   "cell_type": "code",
   "execution_count": 7,
   "id": "e7d5682e",
   "metadata": {},
   "outputs": [],
   "source": [
    "X, y = load_iris(return_X_y = True)"
   ]
  },
  {
   "cell_type": "markdown",
   "id": "182c6f5b",
   "metadata": {},
   "source": [
    "## Hold-Out Cross Validation"
   ]
  },
  {
   "cell_type": "code",
   "execution_count": 14,
   "id": "a8705f68",
   "metadata": {},
   "outputs": [],
   "source": [
    "def hold_out_cv(X, y, random_state = 0, test_size = .2):\n",
    "    X_train, X_test, y_train, y_test = train_test_split(X, y, random_state = random_state, test_size = test_size)\n",
    "    X_train, X_val, y_train, y_val = train_test_split(X_train, y_train, random_state = random_state)\n",
    "    return X_train, X_val, X_test, y_train, y_val, y_test\n",
    "X_train, X_val, X_test, y_train, y_val, y_test = hold_out_cv(X, y)"
   ]
  },
  {
   "cell_type": "code",
   "execution_count": 15,
   "id": "a5ec3239",
   "metadata": {},
   "outputs": [
    {
     "data": {
      "text/plain": [
       "0.9333333333333333"
      ]
     },
     "execution_count": 15,
     "metadata": {},
     "output_type": "execute_result"
    }
   ],
   "source": [
    "clf = SVC(kernel='linear', C = 1).fit(X_train, y_train)\n",
    "clf.score(X_val, y_val)"
   ]
  },
  {
   "cell_type": "code",
   "execution_count": 16,
   "id": "cf4ac2c7",
   "metadata": {},
   "outputs": [
    {
     "data": {
      "text/plain": [
       "1.0"
      ]
     },
     "execution_count": 16,
     "metadata": {},
     "output_type": "execute_result"
    }
   ],
   "source": [
    "clf.score(X_test, y_test)"
   ]
  },
  {
   "cell_type": "markdown",
   "id": "df84643a",
   "metadata": {},
   "source": [
    "## k-Fold Cross Validation"
   ]
  },
  {
   "cell_type": "code",
   "execution_count": 17,
   "id": "3c31e4c9",
   "metadata": {},
   "outputs": [],
   "source": [
    "from sklearn.model_selection import cross_val_score, KFold, RepeatedKFold"
   ]
  },
  {
   "cell_type": "code",
   "execution_count": 19,
   "id": "e3cb7eff",
   "metadata": {},
   "outputs": [
    {
     "data": {
      "text/plain": [
       "count    5.000000\n",
       "mean     0.980000\n",
       "std      0.018257\n",
       "min      0.966667\n",
       "25%      0.966667\n",
       "50%      0.966667\n",
       "75%      1.000000\n",
       "max      1.000000\n",
       "dtype: float64"
      ]
     },
     "execution_count": 19,
     "metadata": {},
     "output_type": "execute_result"
    }
   ],
   "source": [
    "clf =  SVC(kernel='linear', C = 1, random_state = 42)\n",
    "scores = cross_val_score(clf, X, y, cv = 5)\n",
    "pd.Series(scores).describe()"
   ]
  },
  {
   "cell_type": "markdown",
   "id": "6bdd0182",
   "metadata": {},
   "source": [
    "## Hyperparameter Tuning"
   ]
  },
  {
   "cell_type": "code",
   "execution_count": 22,
   "id": "e25b3091",
   "metadata": {},
   "outputs": [],
   "source": [
    "from sklearn.model_selection import GridSearchCV, RandomizedSearchCV"
   ]
  },
  {
   "cell_type": "code",
   "execution_count": 23,
   "id": "33189c88",
   "metadata": {},
   "outputs": [],
   "source": [
    "param_grid = {\n",
    "    \"C\" : [1, 10, 100, 1000],\n",
    "    \"kernel\" : [\"linear\", \"rbf\"],\n",
    "    \"gamma\" : [0.001, 0.0001]\n",
    "}"
   ]
  },
  {
   "cell_type": "code",
   "execution_count": 29,
   "id": "713e168e",
   "metadata": {},
   "outputs": [
    {
     "data": {
      "text/plain": [
       "GridSearchCV(estimator=SVC(),\n",
       "             param_grid={'C': [1, 10, 100, 1000], 'gamma': [0.001, 0.0001],\n",
       "                         'kernel': ['linear', 'rbf']})"
      ]
     },
     "execution_count": 29,
     "metadata": {},
     "output_type": "execute_result"
    }
   ],
   "source": [
    "svc = SVC()\n",
    "clf = GridSearchCV(svc, param_grid)\n",
    "clf.fit(X_train, y_train)"
   ]
  },
  {
   "cell_type": "code",
   "execution_count": 30,
   "id": "d41ba33d",
   "metadata": {},
   "outputs": [
    {
     "data": {
      "text/plain": [
       "{'C': 1, 'gamma': 0.001, 'kernel': 'linear'}"
      ]
     },
     "execution_count": 30,
     "metadata": {},
     "output_type": "execute_result"
    }
   ],
   "source": [
    "clf.best_params_"
   ]
  }
 ],
 "metadata": {
  "kernelspec": {
   "display_name": "conda_python3",
   "language": "python",
   "name": "conda_python3"
  },
  "language_info": {
   "codemirror_mode": {
    "name": "ipython",
    "version": 3
   },
   "file_extension": ".py",
   "mimetype": "text/x-python",
   "name": "python",
   "nbconvert_exporter": "python",
   "pygments_lexer": "ipython3",
   "version": "3.6.13"
  }
 },
 "nbformat": 4,
 "nbformat_minor": 5
}
