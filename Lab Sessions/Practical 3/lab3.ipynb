{
 "metadata": {
  "language_info": {
   "codemirror_mode": {
    "name": "ipython",
    "version": 3
   },
   "file_extension": ".py",
   "mimetype": "text/x-python",
   "name": "python",
   "nbconvert_exporter": "python",
   "pygments_lexer": "ipython3",
   "version": "3.8.5"
  },
  "orig_nbformat": 2,
  "kernelspec": {
   "name": "python385jvsc74a57bd0a1fb73dd337ee50bf6729fd9c6fd9bc88475a99dbe03346325d58cef50435750",
   "display_name": "Python 3.8.5 64-bit ('base': conda)"
  }
 },
 "nbfo