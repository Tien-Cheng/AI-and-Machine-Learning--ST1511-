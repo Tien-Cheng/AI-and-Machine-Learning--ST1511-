{
  "nbformat": 4,
  "nbformat_minor": 5,
  "metadata": {
    "kernelspec": {
      "name": "python3",
      "display_name": "Python 3"
    },
    "colab": {
      "name": "Copy of bank_marketing.ipynb",
      "provenance": []
    },
    "language_info": {
      "name": "python"
    }
  },
  "cells": [
    {
      "cell_type": "markdown",
      "metadata": {
        "id": "e65e81bf"
      },
      "source": [
        "# Classification of Bank Marketing Success"
      ],
      "id": "e65e81bf"
    },
    {
      "cell_type": "markdown",
      "metadata": {
        "id": "a6e7e26d"
      },
      "source": [
        "## Importing Libraries"
      ],
      "id": "a6e7e26d"
    },
    {
      "cell_type": "code",
      "metadata": {
        "colab": {
          "base_uri": "https://localhost:8080/"
        },
        "id": "U36VB1k4XYpW",
        "outputId": "8b3bd7dd-e977-4dbd-b6b6-a0f55f6425e9"
      },
      "source": [
        "!sudo apt-get install dvipng texlive-latex-extra texlive-fonts-recommended cm-super\n",
        "# Install Latex Fonts"
      ],
      "id": "U36VB1k4XYpW",
      "execution_count": 78,
      "outputs": [
        {
          "output_type": "stream",
          "text": [
            "Reading package lists... Done\n",
            "Building dependency tree       \n",
            "Reading state information... Done\n",
            "cm-super is already the newest version (0.3.4-11).\n",
            "dvipng is already the newest version (1.15-1).\n",
            "texlive-fonts-recommended is already the newest version (2017.20180305-1).\n",
            "texlive-latex-extra is already the newest version (2017.20180305-2).\n",
            "0 upgraded, 0 newly installed, 0 to remove and 39 not upgraded.\n"
          ],
          "name": "stdout"
        }
      ]
    },
    {
      "cell_type": "code",
      "metadata": {
        "colab": {
          "base_uri": "https://localhost:8080/"
        },
        "id": "sE9-8oSzWeN5",
        "outputId": "2669a4a7-ec36-4283-8e77-595717b92c7d"
      },
      "source": [
        "!pip install phik\n",
        "!pip install scikit-learn -U\n",
        "!pip install yellowbrick -U\n",
        "!pip install imbalanced-learn -U\n",
        "!pip install SciencePlots"
      ],
      "id": "sE9-8oSzWeN5",
      "execution_count": 79,
      "outputs": [
        {
          "output_type": "stream",
          "text": [
            "Requirement already satisfied: phik in /usr/local/lib/python3.7/dist-packages (0.11.2)\n",
            "Requirement already satisfied: pandas>=0.25.1 in /usr/local/lib/python3.7/dist-packages (from phik) (1.1.5)\n",
            "Requirement already satisfied: joblib>=0.14.1 in /usr/local/lib/python3.7/dist-packages (from phik) (1.0.1)\n",
            "Requirement already satisfied: numpy>=1.18.0 in /usr/local/lib/python3.7/dist-packages (from phik) (1.19.5)\n",
            "Requirement already satisfied: matplotlib>=2.2.3 in /usr/local/lib/python3.7/dist-packages (from phik) (3.2.2)\n",
            "Requirement already satisfied: scipy>=1.5.2 in /usr/local/lib/python3.7/dist-packages (from phik) (1.6.3)\n",
            "Requirement already satisfied: pytz>=2017.2 in /usr/local/lib/python3.7/dist-packages (from pandas>=0.25.1->phik) (2018.9)\n",
            "Requirement already satisfied: python-dateutil>=2.7.3 in /usr/local/lib/python3.7/dist-packages (from pandas>=0.25.1->phik) (2.8.1)\n",
            "Requirement already satisfied: pyparsing!=2.0.4,!=2.1.2,!=2.1.6,>=2.0.1 in /usr/local/lib/python3.7/dist-packages (from matplotlib>=2.2.3->phik) (2.4.7)\n",
            "Requirement already satisfied: cycler>=0.10 in /usr/local/lib/python3.7/dist-packages (from matplotlib>=2.2.3->phik) (0.10.0)\n",
            "Requirement already satisfied: kiwisolver>=1.0.1 in /usr/local/lib/python3.7/dist-packages (from matplotlib>=2.2.3->phik) (1.3.1)\n",
            "Requirement already satisfied: six>=1.5 in /usr/local/lib/python3.7/dist-packages (from python-dateutil>=2.7.3->pandas>=0.25.1->phik) (1.15.0)\n",
            "Requirement already up-to-date: scikit-learn in /usr/local/lib/python3.7/dist-packages (0.24.2)\n",
            "Requirement already satisfied, skipping upgrade: joblib>=0.11 in /usr/local/lib/python3.7/dist-packages (from scikit-learn) (1.0.1)\n",
            "Requirement already satisfied, skipping upgrade: scipy>=0.19.1 in /usr/local/lib/python3.7/dist-packages (from scikit-learn) (1.6.3)\n",
            "Requirement already satisfied, skipping upgrade: threadpoolctl>=2.0.0 in /usr/local/lib/python3.7/dist-packages (from scikit-learn) (2.1.0)\n",
            "Requirement already satisfied, skipping upgrade: numpy>=1.13.3 in /usr/local/lib/python3.7/dist-packages (from scikit-learn) (1.19.5)\n",
            "Requirement already up-to-date: yellowbrick in /usr/local/lib/python3.7/dist-packages (1.3.post1)\n",
            "Requirement already satisfied, skipping upgrade: matplotlib!=3.0.0,>=2.0.2 in /usr/local/lib/python3.7/dist-packages (from yellowbrick) (3.2.2)\n",
            "Requirement already satisfied, skipping upgrade: numpy<1.20,>=1.16.0 in /usr/local/lib/python3.7/dist-packages (from yellowbrick) (1.19.5)\n",
            "Requirement already satisfied, skipping upgrade: scikit-learn>=0.20 in /usr/local/lib/python3.7/dist-packages (from yellowbrick) (0.24.2)\n",
            "Requirement already satisfied, skipping upgrade: scipy>=1.0.0 in /usr/local/lib/python3.7/dist-packages (from yellowbrick) (1.6.3)\n",
            "Requirement already satisfied, skipping upgrade: cycler>=0.10.0 in /usr/local/lib/python3.7/dist-packages (from yellowbrick) (0.10.0)\n",
            "Requirement already satisfied, skipping upgrade: pyparsing!=2.0.4,!=2.1.2,!=2.1.6,>=2.0.1 in /usr/local/lib/python3.7/dist-packages (from matplotlib!=3.0.0,>=2.0.2->yellowbrick) (2.4.7)\n",
            "Requirement already satisfied, skipping upgrade: python-dateutil>=2.1 in /usr/local/lib/python3.7/dist-packages (from matplotlib!=3.0.0,>=2.0.2->yellowbrick) (2.8.1)\n",
            "Requirement already satisfied, skipping upgrade: kiwisolver>=1.0.1 in /usr/local/lib/python3.7/dist-packages (from matplotlib!=3.0.0,>=2.0.2->yellowbrick) (1.3.1)\n",
            "Requirement already satisfied, skipping upgrade: joblib>=0.11 in /usr/local/lib/python3.7/dist-packages (from scikit-learn>=0.20->yellowbrick) (1.0.1)\n",
            "Requirement already satisfied, skipping upgrade: threadpoolctl>=2.0.0 in /usr/local/lib/python3.7/dist-packages (from scikit-learn>=0.20->yellowbrick) (2.1.0)\n",
            "Requirement already satisfied, skipping upgrade: six in /usr/local/lib/python3.7/dist-packages (from cycler>=0.10.0->yellowbrick) (1.15.0)\n",
            "Requirement already up-to-date: imbalanced-learn in /usr/local/lib/python3.7/dist-packages (0.8.0)\n",
            "Requirement already satisfied, skipping upgrade: scikit-learn>=0.24 in /usr/local/lib/python3.7/dist-packages (from imbalanced-learn) (0.24.2)\n",
            "Requirement already satisfied, skipping upgrade: numpy>=1.13.3 in /usr/local/lib/python3.7/dist-packages (from imbalanced-learn) (1.19.5)\n",
            "Requirement already satisfied, skipping upgrade: scipy>=0.19.1 in /usr/local/lib/python3.7/dist-packages (from imbalanced-learn) (1.6.3)\n",
            "Requirement already satisfied, skipping upgrade: joblib>=0.11 in /usr/local/lib/python3.7/dist-packages (from imbalanced-learn) (1.0.1)\n",
            "Requirement already satisfied, skipping upgrade: threadpoolctl>=2.0.0 in /usr/local/lib/python3.7/dist-packages (from scikit-learn>=0.24->imbalanced-learn) (2.1.0)\n",
            "Requirement already satisfied: SciencePlots in /usr/local/lib/python3.7/dist-packages (1.0.8)\n",
            "Requirement already satisfied: matplotlib in /usr/local/lib/python3.7/dist-packages (from SciencePlots) (3.2.2)\n",
            "Requirement already satisfied: kiwisolver>=1.0.1 in /usr/local/lib/python3.7/dist-packages (from matplotlib->SciencePlots) (1.3.1)\n",
            "Requirement already satisfied: python-dateutil>=2.1 in /usr/local/lib/python3.7/dist-packages (from matplotlib->SciencePlots) (2.8.1)\n",
            "Requirement already satisfied: cycler>=0.10 in /usr/local/lib/python3.7/dist-packages (from matplotlib->SciencePlots) (0.10.0)\n",
            "Requirement already satisfied: pyparsing!=2.0.4,!=2.1.2,!=2.1.6,>=2.0.1 in /usr/local/lib/python3.7/dist-packages (from matplotlib->SciencePlots) (2.4.7)\n",
            "Requirement already satisfied: numpy>=1.11 in /usr/local/lib/python3.7/dist-packages (from matplotlib->SciencePlots) (1.19.5)\n",
            "Requirement already satisfied: six>=1.5 in /usr/local/lib/python3.7/dist-packages (from python-dateutil>=2.1->matplotlib->SciencePlots) (1.15.0)\n"
          ],
          "name": "stdout"
        }
      ]
    },
    {
      "cell_type": "code",
      "metadata": {
        "id": "9617fafe"
      },
      "source": [
        "import numpy as np\n",
        "import matplotlib.pyplot as plt\n",
        "import pandas as pd\n",
        "import seaborn as sns\n",
        "import missingno as msno\n",
        "import phik\n",
        "from tqdm import tqdm\n",
        "plt.style.reload_library()\n",
        "plt.style.use(['science', 'grid'])\n",
        "\n",
        "# Model Evaluation\n",
        "from sklearn.model_selection import train_test_split, cross_validate, StratifiedKFold\n",
        "from sklearn.metrics import classification_report, plot_precision_recall_curve, plot_roc_curve, confusion_matrix\n",
        "from yellowbrick.model_selection import learning_curve, feature_importances\n",
        "from sklearn.inspection import permutation_importance\n",
        "\n",
        "# Data Preprocessing\n",
        "from imblearn.pipeline import Pipeline\n",
        "from sklearn.compose import ColumnTransformer\n",
        "from sklearn.preprocessing import StandardScaler, RobustScaler, OneHotEncoder, LabelEncoder, OrdinalEncoder\n",
        "from sklearn.impute import SimpleImputer\n",
        "from imblearn.over_sampling import SMOTE, RandomOverSampler, SMOTENC # Deal with Class Imbalance\n",
        "\n",
        "# Models\n",
        "from sklearn.dummy import DummyClassifier\n",
        "from sklearn.experimental import enable_hist_gradient_boosting\n",
        "from sklearn.linear_model import LogisticRegression\n",
        "from sklearn.svm import LinearSVC\n",
        "from sklearn.tree import DecisionTreeClassifier\n",
        "from sklearn.ensemble import RandomForestClassifier, GradientBoostingClassifier, ExtraTreesClassifier, HistGradientBoostingClassifier\n",
        "\n",
        "# Hyperparameter Tuning\n",
        "from sklearn.model_selection import RandomizedSearchCV, GridSearchCV\n",
        "\n",
        "\n",
        "# Feature Selection\n",
        "from sklearn.feature_selection import SelectFromModel, RFE, SelectKBest\n",
        "\n",
        "# Anomaly Detection\n",
        "from sklearn.decomposition import PCA\n",
        "from sklearn.ensemble import IsolationForest\n",
        "from sklearn.neighbors import LocalOutlierFactor\n",
        "\n",
        "# Random State Instance. Using a RandomState instance sets the seed for the RNG generator. This allows for reproducible results, while still ensuring robust results (e.g. not overfitting to the random state)\n",
        "random_state = np.random.RandomState(42) # also note that for cross validation, the splitter will be passed an integer while the actual estimator will be passed the random state instance, as recommended by scikit-learn documentation."
      ],
      "id": "9617fafe",
      "execution_count": 80,
      "outputs": []
    },
    {
      "cell_type": "markdown",
      "metadata": {
        "id": "13366e71"
      },
      "source": [
        "## Data Ingestion"
      ],
      "id": "13366e71"
    },
    {
      "cell_type": "code",
      "metadata": {
        "id": "f0fa9b4d",
        "colab": {
          "base_uri": "https://localhost:8080/",
          "height": 435
        },
        "outputId": "d217e425-8f3f-4399-f1da-2008960cb2c8"
      },
      "source": [
        "bank_df = pd.read_csv(\"bank-full.csv\", sep=\";\")\n",
        "bank_df"
      ],
      "id": "f0fa9b4d",
      "execution_count": 81,
      "outputs": [
        {
          "output_type": "execute_result",
          "data": {
            "text/html": [
              "<div>\n",
              "<style scoped>\n",
              "    .dataframe tbody tr th:only-of-type {\n",
              "        vertical-align: middle;\n",
              "    }\n",
              "\n",
              "    .dataframe tbody tr th {\n",
              "        vertical-align: top;\n",
              "    }\n",
              "\n",
              "    .dataframe thead th {\n",
              "        text-align: right;\n",
              "    }\n",
              "</style>\n",
              "<table border=\"1\" class=\"dataframe\">\n",
              "  <thead>\n",
              "    <tr style=\"text-align: right;\">\n",
              "      <th></th>\n",
              "      <th>age</th>\n",
              "      <th>job</th>\n",
              "      <th>marital</th>\n",
              "      <th>education</th>\n",
              "      <th>default</th>\n",
              "      <th>balance</th>\n",
              "      <th>housing</th>\n",
              "      <th>loan</th>\n",
              "      <th>contact</th>\n",
              "      <th>day</th>\n",
              "      <th>month</th>\n",
              "      <th>duration</th>\n",
              "      <th>campaign</th>\n",
              "      <th>pdays</th>\n",
              "      <th>previous</th>\n",
              "      <th>poutcome</th>\n",
              "      <th>y</th>\n",
              "    </tr>\n",
              "  </thead>\n",
              "  <tbody>\n",
              "    <tr>\n",
              "      <th>0</th>\n",
              "      <td>58</td>\n",
              "      <td>management</td>\n",
              "      <td>married</td>\n",
              "      <td>tertiary</td>\n",
              "      <td>no</td>\n",
              "      <td>2143</td>\n",
              "      <td>yes</td>\n",
              "      <td>no</td>\n",
              "      <td>unknown</td>\n",
              "      <td>5</td>\n",
              "      <td>may</td>\n",
              "      <td>261</td>\n",
              "      <td>1</td>\n",
              "      <td>-1</td>\n",
              "      <td>0</td>\n",
              "      <td>unknown</td>\n",
              "      <td>no</td>\n",
              "    </tr>\n",
              "    <tr>\n",
              "      <th>1</th>\n",
              "      <td>44</td>\n",
              "      <td>technician</td>\n",
              "      <td>single</td>\n",
              "      <td>secondary</td>\n",
              "      <td>no</td>\n",
              "      <td>29</td>\n",
              "      <td>yes</td>\n",
              "      <td>no</td>\n",
              "      <td>unknown</td>\n",
              "      <td>5</td>\n",
              "      <td>may</td>\n",
              "      <td>151</td>\n",
              "      <td>1</td>\n",
              "      <td>-1</td>\n",
              "      <td>0</td>\n",
              "      <td>unknown</td>\n",
              "      <td>no</td>\n",
              "    </tr>\n",
              "    <tr>\n",
              "      <th>2</th>\n",
              "      <td>33</td>\n",
              "      <td>entrepreneur</td>\n",
              "      <td>married</td>\n",
              "      <td>secondary</td>\n",
              "      <td>no</td>\n",
              "      <td>2</td>\n",
              "      <td>yes</td>\n",
              "      <td>yes</td>\n",
              "      <td>unknown</td>\n",
              "      <td>5</td>\n",
              "      <td>may</td>\n",
              "      <td>76</td>\n",
              "      <td>1</td>\n",
              "      <td>-1</td>\n",
              "      <td>0</td>\n",
              "      <td>unknown</td>\n",
              "      <td>no</td>\n",
              "    </tr>\n",
              "    <tr>\n",
              "      <th>3</th>\n",
              "      <td>47</td>\n",
              "      <td>blue-collar</td>\n",
              "      <td>married</td>\n",
              "      <td>unknown</td>\n",
              "      <td>no</td>\n",
              "      <td>1506</td>\n",
              "      <td>yes</td>\n",
              "      <td>no</td>\n",
              "      <td>unknown</td>\n",
              "      <td>5</td>\n",
              "      <td>may</td>\n",
              "      <td>92</td>\n",
              "      <td>1</td>\n",
              "      <td>-1</td>\n",
              "      <td>0</td>\n",
              "      <td>unknown</td>\n",
              "      <td>no</td>\n",
              "    </tr>\n",
              "    <tr>\n",
              "      <th>4</th>\n",
              "      <td>33</td>\n",
              "      <td>unknown</td>\n",
              "      <td>single</td>\n",
              "      <td>unknown</td>\n",
              "      <td>no</td>\n",
              "      <td>1</td>\n",
              "      <td>no</td>\n",
              "      <td>no</td>\n",
              "      <td>unknown</td>\n",
              "      <td>5</td>\n",
              "      <td>may</td>\n",
              "      <td>198</td>\n",
              "      <td>1</td>\n",
              "      <td>-1</td>\n",
              "      <td>0</td>\n",
              "      <td>unknown</td>\n",
              "      <td>no</td>\n",
              "    </tr>\n",
              "    <tr>\n",
              "      <th>...</th>\n",
              "      <td>...</td>\n",
              "      <td>...</td>\n",
              "      <td>...</td>\n",
              "      <td>...</td>\n",
              "      <td>...</td>\n",
              "      <td>...</td>\n",
              "      <td>...</td>\n",
              "      <td>...</td>\n",
              "      <td>...</td>\n",
              "      <td>...</td>\n",
              "      <td>...</td>\n",
              "      <td>...</td>\n",
              "      <td>...</td>\n",
              "      <td>...</td>\n",
              "      <td>...</td>\n",
              "      <td>...</td>\n",
              "      <td>...</td>\n",
              "    </tr>\n",
              "    <tr>\n",
              "      <th>45206</th>\n",
              "      <td>51</td>\n",
              "      <td>technician</td>\n",
              "      <td>married</td>\n",
              "      <td>tertiary</td>\n",
              "      <td>no</td>\n",
              "      <td>825</td>\n",
              "      <td>no</td>\n",
              "      <td>no</td>\n",
              "      <td>cellular</td>\n",
              "      <td>17</td>\n",
              "      <td>nov</td>\n",
              "      <td>977</td>\n",
              "      <td>3</td>\n",
              "      <td>-1</td>\n",
              "      <td>0</td>\n",
              "      <td>unknown</td>\n",
              "      <td>yes</td>\n",
              "    </tr>\n",
              "    <tr>\n",
              "      <th>45207</th>\n",
              "      <td>71</td>\n",
              "      <td>retired</td>\n",
              "      <td>divorced</td>\n",
              "      <td>primary</td>\n",
              "      <td>no</td>\n",
              "      <td>1729</td>\n",
              "      <td>no</td>\n",
              "      <td>no</td>\n",
              "      <td>cellular</td>\n",
              "      <td>17</td>\n",
              "      <td>nov</td>\n",
              "      <td>456</td>\n",
              "      <td>2</td>\n",
              "      <td>-1</td>\n",
              "      <td>0</td>\n",
              "      <td>unknown</td>\n",
              "      <td>yes</td>\n",
              "    </tr>\n",
              "    <tr>\n",
              "      <th>45208</th>\n",
              "      <td>72</td>\n",
              "      <td>retired</td>\n",
              "      <td>married</td>\n",
              "      <td>secondary</td>\n",
              "      <td>no</td>\n",
              "      <td>5715</td>\n",
              "      <td>no</td>\n",
              "      <td>no</td>\n",
              "      <td>cellular</td>\n",
              "      <td>17</td>\n",
              "      <td>nov</td>\n",
              "      <td>1127</td>\n",
              "      <td>5</td>\n",
              "      <td>184</td>\n",
              "      <td>3</td>\n",
              "      <td>success</td>\n",
              "      <td>yes</td>\n",
              "    </tr>\n",
              "    <tr>\n",
              "      <th>45209</th>\n",
              "      <td>57</td>\n",
              "      <td>blue-collar</td>\n",
              "      <td>married</td>\n",
              "      <td>secondary</td>\n",
              "      <td>no</td>\n",
              "      <td>668</td>\n",
              "      <td>no</td>\n",
              "      <td>no</td>\n",
              "      <td>telephone</td>\n",
              "      <td>17</td>\n",
              "      <td>nov</td>\n",
              "      <td>508</td>\n",
              "      <td>4</td>\n",
              "      <td>-1</td>\n",
              "      <td>0</td>\n",
              "      <td>unknown</td>\n",
              "      <td>no</td>\n",
              "    </tr>\n",
              "    <tr>\n",
              "      <th>45210</th>\n",
              "      <td>37</td>\n",
              "      <td>entrepreneur</td>\n",
              "      <td>married</td>\n",
              "      <td>secondary</td>\n",
              "      <td>no</td>\n",
              "      <td>2971</td>\n",
              "      <td>no</td>\n",
              "      <td>no</td>\n",
              "      <td>cellular</td>\n",
              "      <td>17</td>\n",
              "      <td>nov</td>\n",
              "      <td>361</td>\n",
              "      <td>2</td>\n",
              "      <td>188</td>\n",
              "      <td>11</td>\n",
              "      <td>other</td>\n",
              "      <td>no</td>\n",
              "    </tr>\n",
              "  </tbody>\n",
              "</table>\n",
              "<p>45211 rows × 17 columns</p>\n",
              "</div>"
            ],
            "text/plain": [
              "       age           job   marital  education  ... pdays  previous poutcome    y\n",
              "0       58    management   married   tertiary  ...    -1         0  unknown   no\n",
              "1       44    technician    single  secondary  ...    -1         0  unknown   no\n",
              "2       33  entrepreneur   married  secondary  ...    -1         0  unknown   no\n",
              "3       47   blue-collar   married    unknown  ...    -1         0  unknown   no\n",
              "4       33       unknown    single    unknown  ...    -1         0  unknown   no\n",
              "...    ...           ...       ...        ...  ...   ...       ...      ...  ...\n",
              "45206   51    technician   married   tertiary  ...    -1         0  unknown  yes\n",
              "45207   71       retired  divorced    primary  ...    -1         0  unknown  yes\n",
              "45208   72       retired   married  secondary  ...   184         3  success  yes\n",
              "45209   57   blue-collar   married  secondary  ...    -1         0  unknown   no\n",
              "45210   37  entrepreneur   married  secondary  ...   188        11    other   no\n",
              "\n",
              "[45211 rows x 17 columns]"
            ]
          },
          "metadata": {
            "tags": []
          },
          "execution_count": 81
        }
      ]
    },
    {
      "cell_type": "markdown",
      "metadata": {
        "id": "76a6de7b"
      },
      "source": [
        "## Data Exploration"
      ],
      "id": "76a6de7b"
    },
    {
      "cell_type": "code",
      "metadata": {
        "id": "e7204bf3"
      },
      "source": [
        "bank_eda = bank_df.copy()"
      ],
      "id": "e7204bf3",
      "execution_count": 82,
      "outputs": []
    },
    {
      "cell_type": "code",
      "metadata": {
        "id": "1407d1ba",
        "colab": {
          "base_uri": "https://localhost:8080/"
        },
        "outputId": "0eeb32be-f758-4948-8582-34623ec81489"
      },
      "source": [
        "bank_eda.info()"
      ],
      "id": "1407d1ba",
      "execution_count": 83,
      "outputs": [
        {
          "output_type": "stream",
          "text": [
            "<class 'pandas.core.frame.DataFrame'>\n",
            "RangeIndex: 45211 entries, 0 to 45210\n",
            "Data columns (total 17 columns):\n",
            " #   Column     Non-Null Count  Dtype \n",
            "---  ------     --------------  ----- \n",
            " 0   age        45211 non-null  int64 \n",
            " 1   job        45211 non-null  object\n",
            " 2   marital    45211 non-null  object\n",
            " 3   education  45211 non-null  object\n",
            " 4   default    45211 non-null  object\n",
            " 5   balance    45211 non-null  int64 \n",
            " 6   housing    45211 non-null  object\n",
            " 7   loan       45211 non-null  object\n",
            " 8   contact    45211 non-null  object\n",
            " 9   day        45211 non-null  int64 \n",
            " 10  month      45211 non-null  object\n",
            " 11  duration   45211 non-null  int64 \n",
            " 12  campaign   45211 non-null  int64 \n",
            " 13  pdays      45211 non-null  int64 \n",
            " 14  previous   45211 non-null  int64 \n",
            " 15  poutcome   45211 non-null  object\n",
            " 16  y          45211 non-null  object\n",
            "dtypes: int64(7), object(10)\n",
            "memory usage: 5.9+ MB\n"
          ],
          "name": "stdout"
        }
      ]
    },
    {
      "cell_type": "markdown",
      "metadata": {
        "id": "62827a4d"
      },
      "source": [
        "At first glance, it seems there are no missing values and the data types are correct."
      ],
      "id": "62827a4d"
    },
    {
      "cell_type": "markdown",
      "metadata": {
        "id": "bab2b48b"
      },
      "source": [
        "### Investigating The Target Variable\n",
        "\n",
        "#### What is the prediction target?"
      ],
      "id": "bab2b48b"
    },
    {
      "cell_type": "code",
      "metadata": {
        "id": "446fff98",
        "colab": {
          "base_uri": "https://localhost:8080/",
          "height": 196
        },
        "outputId": "d2ba0ad0-8877-456f-d49c-aad10d56be0c"
      },
      "source": [
        "sns.countplot(data=bank_eda, x=\"y\")\n",
        "plt.savefig(\"class_dist.png\", dpi=600)"
      ],
      "id": "446fff98",
      "execution_count": 84,
      "outputs": [
        {
          "output_type": "display_data",
          "data": {
            "image/png": "[encoded data removed]",
            "text/plain": [
              "<Figure size 252x189 with 1 Axes>"
            ]
          },
          "metadata": {
            "tags": []
          }
        }
      ]
    },
    {
      "cell_type": "markdown",
      "metadata": {
        "id": "08ba533e"
      },
      "source": [
        "We note that the classes are highly imbalanced, with most customers not signing up after marketing. This would suggest a strategy of oversampling may be required to handle imbalanced classes. It also suggests that we could treat the problem as an anomaly detection problem."
      ],
      "id": "08ba533e"
    },
    {
      "cell_type": "markdown",
      "metadata": {
        "id": "9b462195"
      },
      "source": [
        "### Univariate Analysis"
      ],
      "id": "9b462195"
    },
    {
      "cell_type": "markdown",
      "metadata": {
        "id": "8815f7eb"
      },
      "source": [
        "#### Quantitative Variables"
      ],
      "id": "8815f7eb"
    },
    {
      "cell_type": "code",
      "metadata": {
        "id": "dbe7dec1"
      },
      "source": [
        "numerical_features = ['age', 'balance', 'day', 'duration', 'campaign', 'pdays', 'previous']"
      ],
      "id": "dbe7dec1",
      "execution_count": 85,
      "outputs": []
    },
    {
      "cell_type": "markdown",
      "metadata": {
        "id": "5546de96"
      },
      "source": [
        "##### Descriptive Statistics"
      ],
      "id": "5546de96"
    },
    {
      "cell_type": "code",
      "metadata": {
        "colab": {
          "base_uri": "https://localhost:8080/",
          "height": 0
        },
        "id": "clg9xxThNkyc",
        "outputId": "3345414e-9341-45b9-f0d9-d88ff481bdbf"
      },
      "source": [
        "bank_eda.describe().round(2).to_latex()"
      ],
      "id": "clg9xxThNkyc",
      "execution_count": 86,
      "outputs": [
        {
          "output_type": "execute_result",
          "data": {
            "application/vnd.google.colaboratory.intrinsic+json": {
              "type": "string"
            },
            "text/plain": [
              "'\\\\begin{tabular}{lrrrrrrr}\\n\\\\toprule\\n{} &       age &    balance &       day &  duration &  campaign &     pdays &  previous \\\\\\\\\\n\\\\midrule\\ncount &  45211.00 &   45211.00 &  45211.00 &  45211.00 &  45211.00 &  45211.00 &  45211.00 \\\\\\\\\\nmean  &     40.94 &    1362.27 &     15.81 &    258.16 &      2.76 &     40.20 &      0.58 \\\\\\\\\\nstd   &     10.62 &    3044.77 &      8.32 &    257.53 &      3.10 &    100.13 &      2.30 \\\\\\\\\\nmin   &     18.00 &   -8019.00 &      1.00 &      0.00 &      1.00 &     -1.00 &      0.00 \\\\\\\\\\n25\\\\%   &     33.00 &      72.00 &      8.00 &    103.00 &      1.00 &     -1.00 &      0.00 \\\\\\\\\\n50\\\\%   &     39.00 &     448.00 &     16.00 &    180.00 &      2.00 &     -1.00 &      0.00 \\\\\\\\\\n75\\\\%   &     48.00 &    1428.00 &     21.00 &    319.00 &      3.00 &     -1.00 &      0.00 \\\\\\\\\\nmax   &     95.00 &  102127.00 &     31.00 &   4918.00 &     63.00 &    871.00 &    275.00 \\\\\\\\\\n\\\\bottomrule\\n\\\\end{tabular}\\n'"
            ]
          },
          "metadata": {
            "tags": []
          },
          "execution_count": 86
        }
      ]
    },
    {
      "cell_type": "code",
      "metadata": {
        "id": "fc6ebe71",
        "colab": {
          "base_uri": "https://localhost:8080/",
          "height": 0
        },
        "outputId": "2d9527c4-0cd5-4866-cc16-266df63229c9"
      },
      "source": [
        "bank_eda.describe()"
      ],
      "id": "fc6ebe71",
      "execution_count": 87,
      "outputs": [
        {
          "output_type": "execute_result",
          "data": {
            "text/html": [
              "<div>\n",
              "<style scoped>\n",
              "    .dataframe tbody tr th:only-of-type {\n",
              "        vertical-align: middle;\n",
              "    }\n",
              "\n",
              "    .dataframe tbody tr th {\n",
              "        vertical-align: top;\n",
              "    }\n",
              "\n",
              "    .dataframe thead th {\n",
              "        text-align: right;\n",
              "    }\n",
              "</style>\n",
              "<table border=\"1\" class=\"dataframe\">\n",
              "  <thead>\n",
              "    <tr style=\"text-align: right;\">\n",
              "      <th></th>\n",
              "      <th>age</th>\n",
              "      <th>balance</th>\n",
              "      <th>day</th>\n",
              "      <th>duration</th>\n",
              "      <th>campaign</th>\n",
              "      <th>pdays</th>\n",
              "      <th>previous</th>\n",
              "    </tr>\n",
              "  </thead>\n",
              "  <tbody>\n",
              "    <tr>\n",
              "      <th>count</th>\n",
              "      <td>45211.000000</td>\n",
              "      <td>45211.000000</td>\n",
              "      <td>45211.000000</td>\n",
              "      <td>45211.000000</td>\n",
              "      <td>45211.000000</td>\n",
              "      <td>45211.000000</td>\n",
              "      <td>45211.000000</td>\n",
              "    </tr>\n",
              "    <tr>\n",
              "      <th>mean</th>\n",
              "      <td>40.936210</td>\n",
              "      <td>1362.272058</td>\n",
              "      <td>15.806419</td>\n",
              "      <td>258.163080</td>\n",
              "      <td>2.763841</td>\n",
              "      <td>40.197828</td>\n",
              "      <td>0.580323</td>\n",
              "    </tr>\n",
              "    <tr>\n",
              "      <th>std</th>\n",
              "      <td>10.618762</td>\n",
              "      <td>3044.765829</td>\n",
              "      <td>8.322476</td>\n",
              "      <td>257.527812</td>\n",
              "      <td>3.098021</td>\n",
              "      <td>100.128746</td>\n",
              "      <td>2.303441</td>\n",
              "    </tr>\n",
              "    <tr>\n",
              "      <th>min</th>\n",
              "      <td>18.000000</td>\n",
              "      <td>-8019.000000</td>\n",
              "      <td>1.000000</td>\n",
              "      <td>0.000000</td>\n",
              "      <td>1.000000</td>\n",
              "      <td>-1.000000</td>\n",
              "      <td>0.000000</td>\n",
              "    </tr>\n",
              "    <tr>\n",
              "      <th>25%</th>\n",
              "      <td>33.000000</td>\n",
              "      <td>72.000000</td>\n",
              "      <td>8.000000</td>\n",
              "      <td>103.000000</td>\n",
              "      <td>1.000000</td>\n",
              "      <td>-1.000000</td>\n",
              "      <td>0.000000</td>\n",
              "    </tr>\n",
              "    <tr>\n",
              "      <th>50%</th>\n",
              "      <td>39.000000</td>\n",
              "      <td>448.000000</td>\n",
              "      <td>16.000000</td>\n",
              "      <td>180.000000</td>\n",
              "      <td>2.000000</td>\n",
              "      <td>-1.000000</td>\n",
              "      <td>0.000000</td>\n",
              "    </tr>\n",
              "    <tr>\n",
              "      <th>75%</th>\n",
              "      <td>48.000000</td>\n",
              "      <td>1428.000000</td>\n",
              "      <td>21.000000</td>\n",
              "      <td>319.000000</td>\n",
              "      <td>3.000000</td>\n",
              "      <td>-1.000000</td>\n",
              "      <td>0.000000</td>\n",
              "    </tr>\n",
              "    <tr>\n",
              "      <th>max</th>\n",
              "      <td>95.000000</td>\n",
              "      <td>102127.000000</td>\n",
              "      <td>31.000000</td>\n",
              "      <td>4918.000000</td>\n",
              "      <td>63.000000</td>\n",
              "      <td>871.000000</td>\n",
              "      <td>275.000000</td>\n",
              "    </tr>\n",
              "  </tbody>\n",
              "</table>\n",
              "</div>"
            ],
            "text/plain": [
              "                age        balance  ...         pdays      previous\n",
              "count  45211.000000   45211.000000  ...  45211.000000  45211.000000\n",
              "mean      40.936210    1362.272058  ...     40.197828      0.580323\n",
              "std       10.618762    3044.765829  ...    100.128746      2.303441\n",
              "min       18.000000   -8019.000000  ...     -1.000000      0.000000\n",
              "25%       33.000000      72.000000  ...     -1.000000      0.000000\n",
              "50%       39.000000     448.000000  ...     -1.000000      0.000000\n",
              "75%       48.000000    1428.000000  ...     -1.000000      0.000000\n",
              "max       95.000000  102127.000000  ...    871.000000    275.000000\n",
              "\n",
              "[8 rows x 7 columns]"
            ]
          },
          "metadata": {
            "tags": []
          },
          "execution_count": 87
        }
      ]
    },
    {
      "cell_type": "markdown",
      "metadata": {
        "id": "3d111f4f"
      },
      "source": [
        "- The middle 50% of all customers are of ages 33 to 48. The oldest customer is 95. This suggests most customers are middle aged, working adults.\n",
        "- Some customers had a negative balance in their account, but the middle 50% had an average yearly balance of 72 to 1428 euros \n",
        "- With the exception of day, most quantitative features had mean values larger than the median, suggesting that their distributions are positively skewed.\n",
        "- At least 75% of all clients had never been contacted by the bank for any campaigns. At least one client had not been contacted for more than two years.\n",
        "- Almost all clients had never been contacted before by the bank as the 75% percentile for previous contacts is 0. However, the max of 275 suggests that a few were regular customers of the bank before."
      ],
      "id": "3d111f4f"
    },
    {
      "cell_type": "code",
      "metadata": {
        "id": "bad10b79",
        "colab": {
          "base_uri": "https://localhost:8080/",
          "height": 0
        },
        "outputId": "eebd46b5-11d4-4753-d286-317469b2ffb5"
      },
      "source": [
        "fig = bank_eda[numerical_features].hist(figsize=(10, 8))\n",
        "plt.savefig(\"numerical_hist.png\", dpi=600)"
      ],
      "id": "bad10b79",
      "execution_count": 88,
      "outputs": [
        {
          "output_type": "display_data",
          "data": {
            "image/png": "[encoded data removed]",
            "text/plain": [
              "<Figure size 720x576 with 9 Axes>"
            ]
          },
          "metadata": {
            "tags": []
          }
        }
      ]
    },
    {
      "cell_type": "markdown",
      "metadata": {
        "id": "3e2aa987"
      },
      "source": [
        "We note that with the exception of day, most of the quantitative data has a positively skewed distribution. \n"
      ],
      "id": "3e2aa987"
    },
    {
      "cell_type": "code",
      "metadata": {
        "id": "45f6e4cd",
        "colab": {
          "base_uri": "https://localhost:8080/",
          "height": 0
        },
        "outputId": "b5b765dc-6458-4a0b-fb74-49b360579823"
      },
      "source": [
        "fig, ax = plt.subplots(len(numerical_features), 1, figsize=(8, 15), tight_layout=True)\n",
        "for idx, feature in enumerate(numerical_features):\n",
        "    sns.boxplot(data=bank_eda, x=feature, ax = ax[idx])\n",
        "fig.show()"
      ],
      "id": "45f6e4cd",
      "execution_count": 89,
      "outputs": [
        {
          "output_type": "display_data",
          "data": {
            "image/png": "[encoded data removed]",
            "text/plain": [
              "<Figure size 576x1080 with 7 Axes>"
            ]
          },
          "metadata": {
            "tags": []
          }
        }
      ]
    },
    {
      "cell_type": "markdown",
      "metadata": {
        "id": "343f4344"
      },
      "source": [
        "- Balance has outliers with negative balance.\n",
        "- All other columns have outliers that are above the upper quartile."
      ],
      "id": "343f4344"
    },
    {
      "cell_type": "markdown",
      "metadata": {
        "id": "c8c930fb"
      },
      "source": [
        "#### Qualitative Variables"
      ],
      "id": "c8c930fb"
    },
    {
      "cell_type": "code",
      "metadata": {
        "id": "03744e91"
      },
      "source": [
        "categorical_features = ['job', 'marital', 'education', 'default', 'housing', 'loan', 'contact', 'month', 'poutcome']"
      ],
      "id": "03744e91",
      "execution_count": 90,
      "outputs": []
    },
    {
      "cell_type": "code",
      "metadata": {
        "colab": {
          "base_uri": "https://localhost:8080/",
          "height": 0
        },
        "id": "ODMOZYN1RY_A",
        "outputId": "6dadb4f2-4846-4c26-f367-7862d4597b98"
      },
      "source": [
        "bank_eda.describe(include='object').to_latex()"
      ],
      "id": "ODMOZYN1RY_A",
      "execution_count": 91,
      "outputs": [
        {
          "output_type": "execute_result",
          "data": {
            "application/vnd.google.colaboratory.intrinsic+json": {
              "type": "string"
            },
            "text/plain": [
              "'\\\\begin{tabular}{lllllllllll}\\n\\\\toprule\\n{} &          job &  marital &  education & default & housing &   loan &   contact &  month & poutcome &      y \\\\\\\\\\n\\\\midrule\\ncount  &        45211 &    45211 &      45211 &   45211 &   45211 &  45211 &     45211 &  45211 &    45211 &  45211 \\\\\\\\\\nunique &           12 &        3 &          4 &       2 &       2 &      2 &         3 &     12 &        4 &      2 \\\\\\\\\\ntop    &  blue-collar &  married &  secondary &      no &     yes &     no &  cellular &    may &  unknown &     no \\\\\\\\\\nfreq   &         9732 &    27214 &      23202 &   44396 &   25130 &  37967 &     29285 &  13766 &    36959 &  39922 \\\\\\\\\\n\\\\bottomrule\\n\\\\end{tabular}\\n'"
            ]
          },
          "metadata": {
            "tags": []
          },
          "execution_count": 91
        }
      ]
    },
    {
      "cell_type": "code",
      "metadata": {
        "id": "bc3050c0",
        "colab": {
          "base_uri": "https://localhost:8080/",
          "height": 0
        },
        "outputId": "e663667f-ce00-47e3-ce62-7c00cf6dbdaa"
      },
      "source": [
        "bank_eda.describe(include='object')"
      ],
      "id": "bc3050c0",
      "execution_count": 92,
      "outputs": [
        {
          "output_type": "execute_result",
          "data": {
            "text/html": [
              "<div>\n",
              "<style scoped>\n",
              "    .dataframe tbody tr th:only-of-type {\n",
              "        vertical-align: middle;\n",
              "    }\n",
              "\n",
              "    .dataframe tbody tr th {\n",
              "        vertical-align: top;\n",
              "    }\n",
              "\n",
              "    .dataframe thead th {\n",
              "        text-align: right;\n",
              "    }\n",
              "</style>\n",
              "<table border=\"1\" class=\"dataframe\">\n",
              "  <thead>\n",
              "    <tr style=\"text-align: right;\">\n",
              "      <th></th>\n",
              "      <th>job</th>\n",
              "      <th>marital</th>\n",
              "      <th>education</th>\n",
              "      <th>default</th>\n",
              "      <th>housing</th>\n",
              "      <th>loan</th>\n",
              "      <th>contact</th>\n",
              "      <th>month</th>\n",
              "      <th>poutcome</th>\n",
              "      <th>y</th>\n",
              "    </tr>\n",
              "  </thead>\n",
              "  <tbody>\n",
              "    <tr>\n",
              "      <th>count</th>\n",
              "      <td>45211</td>\n",
              "      <td>45211</td>\n",
              "      <td>45211</td>\n",
              "      <td>45211</td>\n",
              "      <td>45211</td>\n",
              "      <td>45211</td>\n",
              "      <td>45211</td>\n",
              "      <td>45211</td>\n",
              "      <td>45211</td>\n",
              "      <td>45211</td>\n",
              "    </tr>\n",
              "    <tr>\n",
              "      <th>unique</th>\n",
              "      <td>12</td>\n",
              "      <td>3</td>\n",
              "      <td>4</td>\n",
              "      <td>2</td>\n",
              "      <td>2</td>\n",
              "      <td>2</td>\n",
              "      <td>3</td>\n",
              "      <td>12</td>\n",
              "      <td>4</td>\n",
              "      <td>2</td>\n",
              "    </tr>\n",
              "    <tr>\n",
              "      <th>top</th>\n",
              "      <td>blue-collar</td>\n",
              "      <td>married</td>\n",
              "      <td>secondary</td>\n",
              "      <td>no</td>\n",
              "      <td>yes</td>\n",
              "      <td>no</td>\n",
              "      <td>cellular</td>\n",
              "      <td>may</td>\n",
              "      <td>unknown</td>\n",
              "      <td>no</td>\n",
              "    </tr>\n",
              "    <tr>\n",
              "      <th>freq</th>\n",
              "      <td>9732</td>\n",
              "      <td>27214</td>\n",
              "      <td>23202</td>\n",
              "      <td>44396</td>\n",
              "      <td>25130</td>\n",
              "      <td>37967</td>\n",
              "      <td>29285</td>\n",
              "      <td>13766</td>\n",
              "      <td>36959</td>\n",
              "      <td>39922</td>\n",
              "    </tr>\n",
              "  </tbody>\n",
              "</table>\n",
              "</div>"
            ],
            "text/plain": [
              "                job  marital  education  ...  month poutcome      y\n",
              "count         45211    45211      45211  ...  45211    45211  45211\n",
              "unique           12        3          4  ...     12        4      2\n",
              "top     blue-collar  married  secondary  ...    may  unknown     no\n",
              "freq           9732    27214      23202  ...  13766    36959  39922\n",
              "\n",
              "[4 rows x 10 columns]"
            ]
          },
          "metadata": {
            "tags": []
          },
          "execution_count": 92
        }
      ]
    },
    {
      "cell_type": "code",
      "metadata": {
        "colab": {
          "base_uri": "https://localhost:8080/",
          "height": 0
        },
        "id": "DlBGf4xWXSfh",
        "outputId": "f7157bd8-92db-4d6e-f43e-fca52e9545d9"
      },
      "source": [
        "for idx, feature in enumerate(categorical_features):\n",
        "  plt.clf()\n",
        "  sns.countplot(data=bank_eda, y = feature)\n",
        "  plt.savefig(f\"{feature}.png\", dpi=600)\n",
        "fig.show()"
      ],
      "id": "DlBGf4xWXSfh",
      "execution_count": 93,
      "outputs": [
        {
          "output_type": "display_data",
          "data": {
            "image/png": "[encoded data removed]",
            "text/plain": [
              "<Figure size 252x189 with 1 Axes>"
            ]
          },
          "metadata": {
            "tags": []
          }
        }
      ]
    },
    {
      "cell_type": "code",
      "metadata": {
        "id": "fa49185e",
        "colab": {
          "base_uri": "https://localhost:8080/",
          "height": 0
        },
        "outputId": "488f7a6c-1d9d-44eb-e604-3e027fd01c54"
      },
      "source": [
        "fig, ax = plt.subplots(len(categorical_features), 1, figsize=(8, 20), tight_layout = True)\n",
        "\n",
        "for idx, feature in enumerate(categorical_features):\n",
        "    sns.countplot(data=bank_eda, y = feature, ax = ax[idx])\n",
        "fig.show()"
      ],
      "id": "fa49185e",
      "execution_count": 94,
      "outputs": [
        {
          "output_type": "display_data",
          "data": {
            "image/png": "[encoded data removed]",
            "text/plain": [
              "<Figure size 576x1440 with 9 Axes>"
            ]
          },
          "metadata": {
            "tags": []
          }
        }
      ]
    },
    {
      "cell_type": "markdown",
      "metadata": {
        "id": "5f09513c"
      },
      "source": [
        "### Investigating Missing Values\n",
        "In the initial analysis, we found that no values in the data were marked as missing. However, during our EDA, we found that certain categorical variables had values marked as \"unknown\". \n",
        "\n",
        "This suggests that there are missing values in the data. However, to determine what to do with them, we first need to decide if these values are missing at random, or if they are missing for systematic reasons.\n",
        "\n",
        "#### Types of Missing Data\n",
        "| Type | Description |\n",
        "|----|----|\n",
        "|Missing At Random| Rubin (1978) defined MAR as occuring when \"given variables X and Y, the probabilty of response depends on X but not Y\"|"
      ],
      "id": "5f09513c"
    },
    {
      "cell_type": "code",
      "metadata": {
        "id": "efc1bdff"
      },
      "source": [
        "bank_eda_na = pd.read_csv(\"bank-full.csv\", sep=\";\", na_values = {\"poutcome\": \"unknown\", \"contact\" : \"unknown\", \"job\" : \"unknown\", \"education\" : \"unknown\", \"pdays\" : -1})"
      ],
      "id": "efc1bdff",
      "execution_count": 95,
      "outputs": []
    },
    {
      "cell_type": "code",
      "metadata": {
        "id": "fdb35c7b",
        "colab": {
          "base_uri": "https://localhost:8080/"
        },
        "outputId": "72abb1b3-4da8-43e3-c911-59b506d3a62b"
      },
      "source": [
        "bank_eda_na.isna().sum().sort_values(ascending=False)"
      ],
      "id": "fdb35c7b",
      "execution_count": 96,
      "outputs": [
        {
          "output_type": "execute_result",
          "data": {
            "text/plain": [
              "poutcome     36959\n",
              "pdays        36954\n",
              "contact      13020\n",
              "education     1857\n",
              "job            288\n",
              "housing          0\n",
              "marital          0\n",
              "default          0\n",
              "balance          0\n",
              "y                0\n",
              "loan             0\n",
              "day              0\n",
              "month            0\n",
              "duration         0\n",
              "campaign         0\n",
              "previous         0\n",
              "age              0\n",
              "dtype: int64"
            ]
          },
          "metadata": {
            "tags": []
          },
          "execution_count": 96
        }
      ]
    },
    {
      "cell_type": "code",
      "metadata": {
        "id": "ba1a52e9",
        "colab": {
          "base_uri": "https://localhost:8080/",
          "height": 0
        },
        "outputId": "2ee37695-56c6-418d-b3e5-00c7eb2b15e8"
      },
      "source": [
        "(bank_eda_na.isna().sum().sort_values(ascending=True) / len(bank_eda_na) * 100).plot(kind='barh', title=\"Percentage of Missing Values\")"
      ],
      "id": "ba1a52e9",
      "execution_count": 97,
      "outputs": [
        {
          "output_type": "execute_result",
          "data": {
            "text/plain": [
              "<matplotlib.axes._subplots.AxesSubplot at 0x7f3661e8ae10>"
            ]
          },
          "metadata": {
            "tags": []
          },
          "execution_count": 97
        },
        {
          "output_type": "display_data",
          "data": {
            "image/png": "[encoded data removed]",
            "text/plain": [
              "<Figure size 252x189 with 1 Axes>"
            ]
          },
          "metadata": {
            "tags": []
          }
        }
      ]
    },
    {
      "cell_type": "code",
      "metadata": {
        "id": "2506e912",
        "colab": {
          "base_uri": "https://localhost:8080/",
          "height": 0
        },
        "outputId": "9dbb7d45-4510-4ea9-d7aa-cc242642bdef"
      },
      "source": [
        "msno.heatmap(bank_eda_na)"
      ],
      "id": "2506e912",
      "execution_count": 98,
      "outputs": [
        {
          "output_type": "execute_result",
          "data": {
            "text/plain": [
              "<matplotlib.axes._subplots.AxesSubplot at 0x7f3660f40450>"
            ]
          },
          "metadata": {
            "tags": []
          },
          "execution_count": 98
        },
        {
          "output_type": "display_data",
          "data": {
            "image/png": "[encoded data removed]",
            "text/plain": [
              "<Figure size 1440x864 with 2 Axes>"
            ]
          },
          "metadata": {
            "tags": []
          }
        }
      ]
    },
    {
      "cell_type": "markdown",
      "metadata": {
        "id": "e57142de"
      },
      "source": [
        "It seems that those who had known jobs were more likely to have complete educational data. In addition, those who had a known outcome from a previous campaign were more likely to have a known form of contact. \n",
        "\n",
        "We note that there is a 1-1 correlation between a customer never being contacted before and knowing the outcome of the previous campaign. This suggests that missing past outcomes are MNAR (missing not at random). This is logical, as if they are new clients, we would never have contacted them before, and thus have no previous outcomes. Based off this information, it would be best if we kept unknown as an indicator value for `poutcome`."
      ],
      "id": "e57142de"
    },
    {
      "cell_type": "markdown",
      "metadata": {
        "id": "7198892d"
      },
      "source": [
        "### Bivariate Analysis"
      ],
      "id": "7198892d"
    },
    {
      "cell_type": "markdown",
      "metadata": {
        "id": "661f45e0"
      },
      "source": [
        "#### Pairplot"
      ],
      "id": "661f45e0"
    },
    {
      "cell_type": "code",
      "metadata": {
        "id": "caca621d",
        "colab": {
          "base_uri": "https://localhost:8080/",
          "height": 433
        },
        "outputId": "165abf80-e729-41ed-a0bc-a60c50c9bca3"
      },
      "source": [
        "sns.pairplot(bank_eda, hue=\"y\")"
      ],
      "id": "caca621d",
      "execution_count": 99,
      "outputs": [
        {
          "output_type": "execute_result",
          "data": {
            "text/plain": [
              "<seaborn.axisgrid.PairGrid at 0x7f3661236ed0>"
            ]
          },
          "metadata": {
            "tags": []
          },
          "execution_count": 99
        },
        {
          "output_type": "stream",
          "text": [
            "Error in callback <function flush_figures at 0x7f368ba5a440> (for post_execute):\n"
          ],
          "name": "stdout"
        },
        {
          "output_type": "error",
          "ename": "KeyboardInterrupt",
          "evalue": "ignored",
          "traceback": [
            "\u001b[0;31m---------------------------------------------------------------------------\u001b[0m",
            "\u001b[0;31mKeyboardInterrupt\u001b[0m                         Traceback (most recent call last)",
            "\u001b[0;32m/usr/local/lib/python3.7/dist-packages/ipykernel/pylab/backend_inline.py\u001b[0m in \u001b[0;36mflush_figures\u001b[0;34m()\u001b[0m\n\u001b[1;32m    115\u001b[0m         \u001b[0;31m# ignore the tracking, just draw and close all figures\u001b[0m\u001b[0;34m\u001b[0m\u001b[0;34m\u001b[0m\u001b[0;34m\u001b[0m\u001b[0m\n\u001b[1;32m    116\u001b[0m         \u001b[0;32mtry\u001b[0m\u001b[0;34m:\u001b[0m\u001b[0;34m\u001b[0m\u001b[0;34m\u001b[0m\u001b[0m\n\u001b[0;32m--> 117\u001b[0;31m             \u001b[0;32mreturn\u001b[0m \u001b[0mshow\u001b[0m\u001b[0;34m(\u001b[0m\u001b[0;32mTrue\u001b[0m\u001b[0;34m)\u001b[0m\u001b[0;34m\u001b[0m\u001b[0;34m\u001b[0m\u001b[0m\n\u001b[0m\u001b[1;32m    118\u001b[0m         \u001b[0;32mexcept\u001b[0m \u001b[0mException\u001b[0m \u001b[0;32mas\u001b[0m \u001b[0me\u001b[0m\u001b[0;34m:\u001b[0m\u001b[0;34m\u001b[0m\u001b[0;34m\u001b[0m\u001b[0m\n\u001b[1;32m    119\u001b[0m             \u001b[0;31m# safely show traceback if in IPython, else raise\u001b[0m\u001b[0;34m\u001b[0m\u001b[0;34m\u001b[0m\u001b[0;34m\u001b[0m\u001b[0m\n",
            "\u001b[0;32m/usr/local/lib/python3.7/dist-packages/ipykernel/pylab/backend_inline.py\u001b[0m in \u001b[0;36mshow\u001b[0;34m(close, block)\u001b[0m\n\u001b[1;32m     37\u001b[0m             display(\n\u001b[1;32m     38\u001b[0m                 \u001b[0mfigure_manager\u001b[0m\u001b[0;34m.\u001b[0m\u001b[0mcanvas\u001b[0m\u001b[0;34m.\u001b[0m\u001b[0mfigure\u001b[0m\u001b[0;34m,\u001b[0m\u001b[0;34m\u001b[0m\u001b[0;34m\u001b[0m\u001b[0m\n\u001b[0;32m---> 39\u001b[0;31m                 \u001b[0mmetadata\u001b[0m\u001b[0;34m=\u001b[0m\u001b[0m_fetch_figure_metadata\u001b[0m\u001b[0;34m(\u001b[0m\u001b[0mfigure_manager\u001b[0m\u001b[0;34m.\u001b[0m\u001b[0mcanvas\u001b[0m\u001b[0;34m.\u001b[0m\u001b[0mfigure\u001b[0m\u001b[0;34m)\u001b[0m\u001b[0;34m\u001b[0m\u001b[0;34m\u001b[0m\u001b[0m\n\u001b[0m\u001b[1;32m     40\u001b[0m             )\n\u001b[1;32m     41\u001b[0m     \u001b[0;32mfinally\u001b[0m\u001b[0;34m:\u001b[0m\u001b[0;34m\u001b[0m\u001b[0;34m\u001b[0m\u001b[0m\n",
            "\u001b[0;32m/usr/local/lib/python3.7/dist-packages/IPython/core/display.py\u001b[0m in \u001b[0;36mdisplay\u001b[0;34m(*objs, **kwargs)\u001b[0m\n\u001b[1;32m    304\u001b[0m             \u001b[0mpublish_display_data\u001b[0m\u001b[0;34m(\u001b[0m\u001b[0mdata\u001b[0m\u001b[0;34m=\u001b[0m\u001b[0mobj\u001b[0m\u001b[0;34m,\u001b[0m \u001b[0mmetadata\u001b[0m\u001b[0;34m=\u001b[0m\u001b[0mmetadata\u001b[0m\u001b[0;34m,\u001b[0m \u001b[0;34m**\u001b[0m\u001b[0mkwargs\u001b[0m\u001b[0;34m)\u001b[0m\u001b[0;34m\u001b[0m\u001b[0;34m\u001b[0m\u001b[0m\n\u001b[1;32m    305\u001b[0m         \u001b[0;32melse\u001b[0m\u001b[0;34m:\u001b[0m\u001b[0;34m\u001b[0m\u001b[0;34m\u001b[0m\u001b[0m\n\u001b[0;32m--> 306\u001b[0;31m             \u001b[0mformat_dict\u001b[0m\u001b[0;34m,\u001b[0m \u001b[0mmd_dict\u001b[0m \u001b[0;34m=\u001b[0m \u001b[0mformat\u001b[0m\u001b[0;34m(\u001b[0m\u001b[0mobj\u001b[0m\u001b[0;34m,\u001b[0m \u001b[0minclude\u001b[0m\u001b[0;34m=\u001b[0m\u001b[0minclude\u001b[0m\u001b[0;34m,\u001b[0m \u001b[0mexclude\u001b[0m\u001b[0;34m=\u001b[0m\u001b[0mexclude\u001b[0m\u001b[0;34m)\u001b[0m\u001b[0;34m\u001b[0m\u001b[0;34m\u001b[0m\u001b[0m\n\u001b[0m\u001b[1;32m    307\u001b[0m             \u001b[0;32mif\u001b[0m \u001b[0;32mnot\u001b[0m \u001b[0mformat_dict\u001b[0m\u001b[0;34m:\u001b[0m\u001b[0;34m\u001b[0m\u001b[0;34m\u001b[0m\u001b[0m\n\u001b[1;32m    308\u001b[0m                 \u001b[0;31m# nothing to display (e.g. _ipython_display_ took over)\u001b[0m\u001b[0;34m\u001b[0m\u001b[0;34m\u001b[0m\u001b[0;34m\u001b[0m\u001b[0m\n",
            "\u001b[0;32m/usr/local/lib/python3.7/dist-packages/IPython/core/formatters.py\u001b[0m in \u001b[0;36mformat\u001b[0;34m(self, obj, include, exclude)\u001b[0m\n\u001b[1;32m    171\u001b[0m             \u001b[0mmd\u001b[0m \u001b[0;34m=\u001b[0m \u001b[0;32mNone\u001b[0m\u001b[0;34m\u001b[0m\u001b[0;34m\u001b[0m\u001b[0m\n\u001b[1;32m    172\u001b[0m             \u001b[0;32mtry\u001b[0m\u001b[0;34m:\u001b[0m\u001b[0;34m\u001b[0m\u001b[0;34m\u001b[0m\u001b[0m\n\u001b[0;32m--> 173\u001b[0;31m                 \u001b[0mdata\u001b[0m \u001b[0;34m=\u001b[0m \u001b[0mformatter\u001b[0m\u001b[0;34m(\u001b[0m\u001b[0mobj\u001b[0m\u001b[0;34m)\u001b[0m\u001b[0;34m\u001b[0m\u001b[0;34m\u001b[0m\u001b[0m\n\u001b[0m\u001b[1;32m    174\u001b[0m             \u001b[0;32mexcept\u001b[0m\u001b[0;34m:\u001b[0m\u001b[0;34m\u001b[0m\u001b[0;34m\u001b[0m\u001b[0m\n\u001b[1;32m    175\u001b[0m                 \u001b[0;31m# FIXME: log the exception\u001b[0m\u001b[0;34m\u001b[0m\u001b[0;34m\u001b[0m\u001b[0;34m\u001b[0m\u001b[0m\n",
            "\u001b[0;32m<decorator-gen-2>\u001b[0m in \u001b[0;36m__call__\u001b[0;34m(self, obj)\u001b[0m\n",
            "\u001b[0;32m/usr/local/lib/python3.7/dist-packages/IPython/core/formatters.py\u001b[0m in \u001b[0;36mcatch_format_error\u001b[0;34m(method, self, *args, **kwargs)\u001b[0m\n\u001b[1;32m    215\u001b[0m     \u001b[0;34m\"\"\"show traceback on failed format call\"\"\"\u001b[0m\u001b[0;34m\u001b[0m\u001b[0;34m\u001b[0m\u001b[0m\n\u001b[1;32m    216\u001b[0m     \u001b[0;32mtry\u001b[0m\u001b[0;34m:\u001b[0m\u001b[0;34m\u001b[0m\u001b[0;34m\u001b[0m\u001b[0m\n\u001b[0;32m--> 217\u001b[0;31m         \u001b[0mr\u001b[0m \u001b[0;34m=\u001b[0m \u001b[0mmethod\u001b[0m\u001b[0;34m(\u001b[0m\u001b[0mself\u001b[0m\u001b[0;34m,\u001b[0m \u001b[0;34m*\u001b[0m\u001b[0margs\u001b[0m\u001b[0;34m,\u001b[0m \u001b[0;34m**\u001b[0m\u001b[0mkwargs\u001b[0m\u001b[0;34m)\u001b[0m\u001b[0;34m\u001b[0m\u001b[0;34m\u001b[0m\u001b[0m\n\u001b[0m\u001b[1;32m    218\u001b[0m     \u001b[0;32mexcept\u001b[0m \u001b[0mNotImplementedError\u001b[0m\u001b[0;34m:\u001b[0m\u001b[0;34m\u001b[0m\u001b[0;34m\u001b[0m\u001b[0m\n\u001b[1;32m    219\u001b[0m         \u001b[0;31m# don't warn on NotImplementedErrors\u001b[0m\u001b[0;34m\u001b[0m\u001b[0;34m\u001b[0m\u001b[0;34m\u001b[0m\u001b[0m\n",
            "\u001b[0;32m/usr/local/lib/python3.7/dist-packages/IPython/core/formatters.py\u001b[0m in \u001b[0;36m__call__\u001b[0;34m(self, obj)\u001b[0m\n\u001b[1;32m    332\u001b[0m                 \u001b[0;32mpass\u001b[0m\u001b[0;34m\u001b[0m\u001b[0;34m\u001b[0m\u001b[0m\n\u001b[1;32m    333\u001b[0m             \u001b[0;32melse\u001b[0m\u001b[0;34m:\u001b[0m\u001b[0;34m\u001b[0m\u001b[0;34m\u001b[0m\u001b[0m\n\u001b[0;32m--> 334\u001b[0;31m                 \u001b[0;32mreturn\u001b[0m \u001b[0mprinter\u001b[0m\u001b[0;34m(\u001b[0m\u001b[0mobj\u001b[0m\u001b[0;34m)\u001b[0m\u001b[0;34m\u001b[0m\u001b[0;34m\u001b[0m\u001b[0m\n\u001b[0m\u001b[1;32m    335\u001b[0m             \u001b[0;31m# Finally look for special method names\u001b[0m\u001b[0;34m\u001b[0m\u001b[0;34m\u001b[0m\u001b[0;34m\u001b[0m\u001b[0m\n\u001b[1;32m    336\u001b[0m             \u001b[0mmethod\u001b[0m \u001b[0;34m=\u001b[0m \u001b[0mget_real_method\u001b[0m\u001b[0;34m(\u001b[0m\u001b[0mobj\u001b[0m\u001b[0;34m,\u001b[0m \u001b[0mself\u001b[0m\u001b[0;34m.\u001b[0m\u001b[0mprint_method\u001b[0m\u001b[0;34m)\u001b[0m\u001b[0;34m\u001b[0m\u001b[0;34m\u001b[0m\u001b[0m\n",
            "\u001b[0;32m/usr/local/lib/python3.7/dist-packages/IPython/core/pylabtools.py\u001b[0m in \u001b[0;36m<lambda>\u001b[0;34m(fig)\u001b[0m\n\u001b[1;32m    239\u001b[0m \u001b[0;34m\u001b[0m\u001b[0m\n\u001b[1;32m    240\u001b[0m     \u001b[0;32mif\u001b[0m \u001b[0;34m'png'\u001b[0m \u001b[0;32min\u001b[0m \u001b[0mformats\u001b[0m\u001b[0;34m:\u001b[0m\u001b[0;34m\u001b[0m\u001b[0;34m\u001b[0m\u001b[0m\n\u001b[0;32m--> 241\u001b[0;31m         \u001b[0mpng_formatter\u001b[0m\u001b[0;34m.\u001b[0m\u001b[0mfor_type\u001b[0m\u001b[0;34m(\u001b[0m\u001b[0mFigure\u001b[0m\u001b[0;34m,\u001b[0m \u001b[0;32mlambda\u001b[0m \u001b[0mfig\u001b[0m\u001b[0;34m:\u001b[0m \u001b[0mprint_figure\u001b[0m\u001b[0;34m(\u001b[0m\u001b[0mfig\u001b[0m\u001b[0;34m,\u001b[0m \u001b[0;34m'png'\u001b[0m\u001b[0;34m,\u001b[0m \u001b[0;34m**\u001b[0m\u001b[0mkwargs\u001b[0m\u001b[0;34m)\u001b[0m\u001b[0;34m)\u001b[0m\u001b[0;34m\u001b[0m\u001b[0;34m\u001b[0m\u001b[0m\n\u001b[0m\u001b[1;32m    242\u001b[0m     \u001b[0;32mif\u001b[0m \u001b[0;34m'retina'\u001b[0m \u001b[0;32min\u001b[0m \u001b[0mformats\u001b[0m \u001b[0;32mor\u001b[0m \u001b[0;34m'png2x'\u001b[0m \u001b[0;32min\u001b[0m \u001b[0mformats\u001b[0m\u001b[0;34m:\u001b[0m\u001b[0;34m\u001b[0m\u001b[0;34m\u001b[0m\u001b[0m\n\u001b[1;32m    243\u001b[0m         \u001b[0mpng_formatter\u001b[0m\u001b[0;34m.\u001b[0m\u001b[0mfor_type\u001b[0m\u001b[0;34m(\u001b[0m\u001b[0mFigure\u001b[0m\u001b[0;34m,\u001b[0m \u001b[0;32mlambda\u001b[0m \u001b[0mfig\u001b[0m\u001b[0;34m:\u001b[0m \u001b[0mretina_figure\u001b[0m\u001b[0;34m(\u001b[0m\u001b[0mfig\u001b[0m\u001b[0;34m,\u001b[0m \u001b[0;34m**\u001b[0m\u001b[0mkwargs\u001b[0m\u001b[0;34m)\u001b[0m\u001b[0;34m)\u001b[0m\u001b[0;34m\u001b[0m\u001b[0;34m\u001b[0m\u001b[0m\n",
            "\u001b[0;32m/usr/local/lib/python3.7/dist-packages/IPython/core/pylabtools.py\u001b[0m in \u001b[0;36mprint_figure\u001b[0;34m(fig, fmt, bbox_inches, **kwargs)\u001b[0m\n\u001b[1;32m    123\u001b[0m \u001b[0;34m\u001b[0m\u001b[0m\n\u001b[1;32m    124\u001b[0m     \u001b[0mbytes_io\u001b[0m \u001b[0;34m=\u001b[0m \u001b[0mBytesIO\u001b[0m\u001b[0;34m(\u001b[0m\u001b[0;34m)\u001b[0m\u001b[0;34m\u001b[0m\u001b[0;34m\u001b[0m\u001b[0m\n\u001b[0;32m--> 125\u001b[0;31m     \u001b[0mfig\u001b[0m\u001b[0;34m.\u001b[0m\u001b[0mcanvas\u001b[0m\u001b[0;34m.\u001b[0m\u001b[0mprint_figure\u001b[0m\u001b[0;34m(\u001b[0m\u001b[0mbytes_io\u001b[0m\u001b[0;34m,\u001b[0m \u001b[0;34m**\u001b[0m\u001b[0mkw\u001b[0m\u001b[0;34m)\u001b[0m\u001b[0;34m\u001b[0m\u001b[0;34m\u001b[0m\u001b[0m\n\u001b[0m\u001b[1;32m    126\u001b[0m     \u001b[0mdata\u001b[0m \u001b[0;34m=\u001b[0m \u001b[0mbytes_io\u001b[0m\u001b[0;34m.\u001b[0m\u001b[0mgetvalue\u001b[0m\u001b[0;34m(\u001b[0m\u001b[0;34m)\u001b[0m\u001b[0;34m\u001b[0m\u001b[0;34m\u001b[0m\u001b[0m\n\u001b[1;32m    127\u001b[0m     \u001b[0;32mif\u001b[0m \u001b[0mfmt\u001b[0m \u001b[0;34m==\u001b[0m \u001b[0;34m'svg'\u001b[0m\u001b[0;34m:\u001b[0m\u001b[0;34m\u001b[0m\u001b[0;34m\u001b[0m\u001b[0m\n",
            "\u001b[0;32m/usr/local/lib/python3.7/dist-packages/matplotlib/backend_bases.py\u001b[0m in \u001b[0;36mprint_figure\u001b[0;34m(self, filename, dpi, facecolor, edgecolor, orientation, format, bbox_inches, **kwargs)\u001b[0m\n\u001b[1;32m   2124\u001b[0m                     \u001b[0morientation\u001b[0m\u001b[0;34m=\u001b[0m\u001b[0morientation\u001b[0m\u001b[0;34m,\u001b[0m\u001b[0;34m\u001b[0m\u001b[0;34m\u001b[0m\u001b[0m\n\u001b[1;32m   2125\u001b[0m                     \u001b[0mbbox_inches_restore\u001b[0m\u001b[0;34m=\u001b[0m\u001b[0m_bbox_inches_restore\u001b[0m\u001b[0;34m,\u001b[0m\u001b[0;34m\u001b[0m\u001b[0;34m\u001b[0m\u001b[0m\n\u001b[0;32m-> 2126\u001b[0;31m                     **kwargs)\n\u001b[0m\u001b[1;32m   2127\u001b[0m             \u001b[0;32mfinally\u001b[0m\u001b[0;34m:\u001b[0m\u001b[0;34m\u001b[0m\u001b[0;34m\u001b[0m\u001b[0m\n\u001b[1;32m   2128\u001b[0m                 \u001b[0;32mif\u001b[0m \u001b[0mbbox_inches\u001b[0m \u001b[0;32mand\u001b[0m \u001b[0mrestore_bbox\u001b[0m\u001b[0;34m:\u001b[0m\u001b[0;34m\u001b[0m\u001b[0;34m\u001b[0m\u001b[0m\n",
            "\u001b[0;32m/usr/local/lib/python3.7/dist-packages/matplotlib/backends/backend_agg.py\u001b[0m in \u001b[0;36mprint_png\u001b[0;34m(self, filename_or_obj, metadata, pil_kwargs, *args, **kwargs)\u001b[0m\n\u001b[1;32m    512\u001b[0m         }\n\u001b[1;32m    513\u001b[0m \u001b[0;34m\u001b[0m\u001b[0m\n\u001b[0;32m--> 514\u001b[0;31m         \u001b[0mFigureCanvasAgg\u001b[0m\u001b[0;34m.\u001b[0m\u001b[0mdraw\u001b[0m\u001b[0;34m(\u001b[0m\u001b[0mself\u001b[0m\u001b[0;34m)\u001b[0m\u001b[0;34m\u001b[0m\u001b[0;34m\u001b[0m\u001b[0m\n\u001b[0m\u001b[1;32m    515\u001b[0m         \u001b[0;32mif\u001b[0m \u001b[0mpil_kwargs\u001b[0m \u001b[0;32mis\u001b[0m \u001b[0;32mnot\u001b[0m \u001b[0;32mNone\u001b[0m\u001b[0;34m:\u001b[0m\u001b[0;34m\u001b[0m\u001b[0;34m\u001b[0m\u001b[0m\n\u001b[1;32m    516\u001b[0m             \u001b[0;32mfrom\u001b[0m \u001b[0mPIL\u001b[0m \u001b[0;32mimport\u001b[0m \u001b[0mImage\u001b[0m\u001b[0;34m\u001b[0m\u001b[0;34m\u001b[0m\u001b[0m\n",
            "\u001b[0;32m/usr/local/lib/python3.7/dist-packages/matplotlib/backends/backend_agg.py\u001b[0m in \u001b[0;36mdraw\u001b[0;34m(self)\u001b[0m\n\u001b[1;32m    391\u001b[0m              (self.toolbar._wait_cursor_for_draw_cm() if self.toolbar\n\u001b[1;32m    392\u001b[0m               else nullcontext()):\n\u001b[0;32m--> 393\u001b[0;31m             \u001b[0mself\u001b[0m\u001b[0;34m.\u001b[0m\u001b[0mfigure\u001b[0m\u001b[0;34m.\u001b[0m\u001b[0mdraw\u001b[0m\u001b[0;34m(\u001b[0m\u001b[0mself\u001b[0m\u001b[0;34m.\u001b[0m\u001b[0mrenderer\u001b[0m\u001b[0;34m)\u001b[0m\u001b[0;34m\u001b[0m\u001b[0;34m\u001b[0m\u001b[0m\n\u001b[0m\u001b[1;32m    394\u001b[0m             \u001b[0;31m# A GUI class may be need to update a window using this draw, so\u001b[0m\u001b[0;34m\u001b[0m\u001b[0;34m\u001b[0m\u001b[0;34m\u001b[0m\u001b[0m\n\u001b[1;32m    395\u001b[0m             \u001b[0;31m# don't forget to call the superclass.\u001b[0m\u001b[0;34m\u001b[0m\u001b[0;34m\u001b[0m\u001b[0;34m\u001b[0m\u001b[0m\n",
            "\u001b[0;32m/usr/local/lib/python3.7/dist-packages/matplotlib/artist.py\u001b[0m in \u001b[0;36mdraw_wrapper\u001b[0;34m(artist, renderer, *args, **kwargs)\u001b[0m\n\u001b[1;32m     36\u001b[0m                 \u001b[0mrenderer\u001b[0m\u001b[0;34m.\u001b[0m\u001b[0mstart_filter\u001b[0m\u001b[0;34m(\u001b[0m\u001b[0;34m)\u001b[0m\u001b[0;34m\u001b[0m\u001b[0;34m\u001b[0m\u001b[0m\n\u001b[1;32m     37\u001b[0m \u001b[0;34m\u001b[0m\u001b[0m\n\u001b[0;32m---> 38\u001b[0;31m             \u001b[0;32mreturn\u001b[0m \u001b[0mdraw\u001b[0m\u001b[0;34m(\u001b[0m\u001b[0martist\u001b[0m\u001b[0;34m,\u001b[0m \u001b[0mrenderer\u001b[0m\u001b[0;34m,\u001b[0m \u001b[0;34m*\u001b[0m\u001b[0margs\u001b[0m\u001b[0;34m,\u001b[0m \u001b[0;34m**\u001b[0m\u001b[0mkwargs\u001b[0m\u001b[0;34m)\u001b[0m\u001b[0;34m\u001b[0m\u001b[0;34m\u001b[0m\u001b[0m\n\u001b[0m\u001b[1;32m     39\u001b[0m         \u001b[0;32mfinally\u001b[0m\u001b[0;34m:\u001b[0m\u001b[0;34m\u001b[0m\u001b[0;34m\u001b[0m\u001b[0m\n\u001b[1;32m     40\u001b[0m             \u001b[0;32mif\u001b[0m \u001b[0martist\u001b[0m\u001b[0;34m.\u001b[0m\u001b[0mget_agg_filter\u001b[0m\u001b[0;34m(\u001b[0m\u001b[0;34m)\u001b[0m \u001b[0;32mis\u001b[0m \u001b[0;32mnot\u001b[0m \u001b[0;32mNone\u001b[0m\u001b[0;34m:\u001b[0m\u001b[0;34m\u001b[0m\u001b[0;34m\u001b[0m\u001b[0m\n",
            "\u001b[0;32m/usr/local/lib/python3.7/dist-packages/matplotlib/figure.py\u001b[0m in \u001b[0;36mdraw\u001b[0;34m(self, renderer)\u001b[0m\n\u001b[1;32m   1734\u001b[0m             \u001b[0mself\u001b[0m\u001b[0;34m.\u001b[0m\u001b[0mpatch\u001b[0m\u001b[0;34m.\u001b[0m\u001b[0mdraw\u001b[0m\u001b[0;34m(\u001b[0m\u001b[0mrenderer\u001b[0m\u001b[0;34m)\u001b[0m\u001b[0;34m\u001b[0m\u001b[0;34m\u001b[0m\u001b[0m\n\u001b[1;32m   1735\u001b[0m             mimage._draw_list_compositing_images(\n\u001b[0;32m-> 1736\u001b[0;31m                 renderer, self, artists, self.suppressComposite)\n\u001b[0m\u001b[1;32m   1737\u001b[0m \u001b[0;34m\u001b[0m\u001b[0m\n\u001b[1;32m   1738\u001b[0m             \u001b[0mrenderer\u001b[0m\u001b[0;34m.\u001b[0m\u001b[0mclose_group\u001b[0m\u001b[0;34m(\u001b[0m\u001b[0;34m'figure'\u001b[0m\u001b[0;34m)\u001b[0m\u001b[0;34m\u001b[0m\u001b[0;34m\u001b[0m\u001b[0m\n",
            "\u001b[0;32m/usr/local/lib/python3.7/dist-packages/matplotlib/image.py\u001b[0m in \u001b[0;36m_draw_list_compositing_images\u001b[0;34m(renderer, parent, artists, suppress_composite)\u001b[0m\n\u001b[1;32m    135\u001b[0m     \u001b[0;32mif\u001b[0m \u001b[0mnot_composite\u001b[0m \u001b[0;32mor\u001b[0m \u001b[0;32mnot\u001b[0m \u001b[0mhas_images\u001b[0m\u001b[0;34m:\u001b[0m\u001b[0;34m\u001b[0m\u001b[0;34m\u001b[0m\u001b[0m\n\u001b[1;32m    136\u001b[0m         \u001b[0;32mfor\u001b[0m \u001b[0ma\u001b[0m \u001b[0;32min\u001b[0m \u001b[0martists\u001b[0m\u001b[0;34m:\u001b[0m\u001b[0;34m\u001b[0m\u001b[0;34m\u001b[0m\u001b[0m\n\u001b[0;32m--> 137\u001b[0;31m             \u001b[0ma\u001b[0m\u001b[0;34m.\u001b[0m\u001b[0mdraw\u001b[0m\u001b[0;34m(\u001b[0m\u001b[0mrenderer\u001b[0m\u001b[0;34m)\u001b[0m\u001b[0;34m\u001b[0m\u001b[0;34m\u001b[0m\u001b[0m\n\u001b[0m\u001b[1;32m    138\u001b[0m     \u001b[0;32melse\u001b[0m\u001b[0;34m:\u001b[0m\u001b[0;34m\u001b[0m\u001b[0;34m\u001b[0m\u001b[0m\n\u001b[1;32m    139\u001b[0m         \u001b[0;31m# Composite any adjacent images together\u001b[0m\u001b[0;34m\u001b[0m\u001b[0;34m\u001b[0m\u001b[0;34m\u001b[0m\u001b[0m\n",
            "\u001b[0;32m/usr/local/lib/python3.7/dist-packages/matplotlib/artist.py\u001b[0m in \u001b[0;36mdraw_wrapper\u001b[0;34m(artist, renderer, *args, **kwargs)\u001b[0m\n\u001b[1;32m     36\u001b[0m                 \u001b[0mrenderer\u001b[0m\u001b[0;34m.\u001b[0m\u001b[0mstart_filter\u001b[0m\u001b[0;34m(\u001b[0m\u001b[0;34m)\u001b[0m\u001b[0;34m\u001b[0m\u001b[0;34m\u001b[0m\u001b[0m\n\u001b[1;32m     37\u001b[0m \u001b[0;34m\u001b[0m\u001b[0m\n\u001b[0;32m---> 38\u001b[0;31m             \u001b[0;32mreturn\u001b[0m \u001b[0mdraw\u001b[0m\u001b[0;34m(\u001b[0m\u001b[0martist\u001b[0m\u001b[0;34m,\u001b[0m \u001b[0mrenderer\u001b[0m\u001b[0;34m,\u001b[0m \u001b[0;34m*\u001b[0m\u001b[0margs\u001b[0m\u001b[0;34m,\u001b[0m \u001b[0;34m**\u001b[0m\u001b[0mkwargs\u001b[0m\u001b[0;34m)\u001b[0m\u001b[0;34m\u001b[0m\u001b[0;34m\u001b[0m\u001b[0m\n\u001b[0m\u001b[1;32m     39\u001b[0m         \u001b[0;32mfinally\u001b[0m\u001b[0;34m:\u001b[0m\u001b[0;34m\u001b[0m\u001b[0;34m\u001b[0m\u001b[0m\n\u001b[1;32m     40\u001b[0m             \u001b[0;32mif\u001b[0m \u001b[0martist\u001b[0m\u001b[0;34m.\u001b[0m\u001b[0mget_agg_filter\u001b[0m\u001b[0;34m(\u001b[0m\u001b[0;34m)\u001b[0m \u001b[0;32mis\u001b[0m \u001b[0;32mnot\u001b[0m \u001b[0;32mNone\u001b[0m\u001b[0;34m:\u001b[0m\u001b[0;34m\u001b[0m\u001b[0;34m\u001b[0m\u001b[0m\n",
            "\u001b[0;32m/usr/local/lib/python3.7/dist-packages/matplotlib/axes/_base.py\u001b[0m in \u001b[0;36mdraw\u001b[0;34m(self, renderer, inframe)\u001b[0m\n\u001b[1;32m   2628\u001b[0m             \u001b[0mrenderer\u001b[0m\u001b[0;34m.\u001b[0m\u001b[0mstop_rasterizing\u001b[0m\u001b[0;34m(\u001b[0m\u001b[0;34m)\u001b[0m\u001b[0;34m\u001b[0m\u001b[0;34m\u001b[0m\u001b[0m\n\u001b[1;32m   2629\u001b[0m \u001b[0;34m\u001b[0m\u001b[0m\n\u001b[0;32m-> 2630\u001b[0;31m         \u001b[0mmimage\u001b[0m\u001b[0;34m.\u001b[0m\u001b[0m_draw_list_compositing_images\u001b[0m\u001b[0;34m(\u001b[0m\u001b[0mrenderer\u001b[0m\u001b[0;34m,\u001b[0m \u001b[0mself\u001b[0m\u001b[0;34m,\u001b[0m \u001b[0martists\u001b[0m\u001b[0;34m)\u001b[0m\u001b[0;34m\u001b[0m\u001b[0;34m\u001b[0m\u001b[0m\n\u001b[0m\u001b[1;32m   2631\u001b[0m \u001b[0;34m\u001b[0m\u001b[0m\n\u001b[1;32m   2632\u001b[0m         \u001b[0mrenderer\u001b[0m\u001b[0;34m.\u001b[0m\u001b[0mclose_group\u001b[0m\u001b[0;34m(\u001b[0m\u001b[0;34m'axes'\u001b[0m\u001b[0;34m)\u001b[0m\u001b[0;34m\u001b[0m\u001b[0;34m\u001b[0m\u001b[0m\n",
            "\u001b[0;32m/usr/local/lib/python3.7/dist-packages/matplotlib/image.py\u001b[0m in \u001b[0;36m_draw_list_compositing_images\u001b[0;34m(renderer, parent, artists, suppress_composite)\u001b[0m\n\u001b[1;32m    135\u001b[0m     \u001b[0;32mif\u001b[0m \u001b[0mnot_composite\u001b[0m \u001b[0;32mor\u001b[0m \u001b[0;32mnot\u001b[0m \u001b[0mhas_images\u001b[0m\u001b[0;34m:\u001b[0m\u001b[0;34m\u001b[0m\u001b[0;34m\u001b[0m\u001b[0m\n\u001b[1;32m    136\u001b[0m         \u001b[0;32mfor\u001b[0m \u001b[0ma\u001b[0m \u001b[0;32min\u001b[0m \u001b[0martists\u001b[0m\u001b[0;34m:\u001b[0m\u001b[0;34m\u001b[0m\u001b[0;34m\u001b[0m\u001b[0m\n\u001b[0;32m--> 137\u001b[0;31m             \u001b[0ma\u001b[0m\u001b[0;34m.\u001b[0m\u001b[0mdraw\u001b[0m\u001b[0;34m(\u001b[0m\u001b[0mrenderer\u001b[0m\u001b[0;34m)\u001b[0m\u001b[0;34m\u001b[0m\u001b[0;34m\u001b[0m\u001b[0m\n\u001b[0m\u001b[1;32m    138\u001b[0m     \u001b[0;32melse\u001b[0m\u001b[0;34m:\u001b[0m\u001b[0;34m\u001b[0m\u001b[0;34m\u001b[0m\u001b[0m\n\u001b[1;32m    139\u001b[0m         \u001b[0;31m# Composite any adjacent images together\u001b[0m\u001b[0;34m\u001b[0m\u001b[0;34m\u001b[0m\u001b[0;34m\u001b[0m\u001b[0m\n",
            "\u001b[0;32m/usr/local/lib/python3.7/dist-packages/matplotlib/artist.py\u001b[0m in \u001b[0;36mdraw_wrapper\u001b[0;34m(artist, renderer, *args, **kwargs)\u001b[0m\n\u001b[1;32m     36\u001b[0m                 \u001b[0mrenderer\u001b[0m\u001b[0;34m.\u001b[0m\u001b[0mstart_filter\u001b[0m\u001b[0;34m(\u001b[0m\u001b[0;34m)\u001b[0m\u001b[0;34m\u001b[0m\u001b[0;34m\u001b[0m\u001b[0m\n\u001b[1;32m     37\u001b[0m \u001b[0;34m\u001b[0m\u001b[0m\n\u001b[0;32m---> 38\u001b[0;31m             \u001b[0;32mreturn\u001b[0m \u001b[0mdraw\u001b[0m\u001b[0;34m(\u001b[0m\u001b[0martist\u001b[0m\u001b[0;34m,\u001b[0m \u001b[0mrenderer\u001b[0m\u001b[0;34m,\u001b[0m \u001b[0;34m*\u001b[0m\u001b[0margs\u001b[0m\u001b[0;34m,\u001b[0m \u001b[0;34m**\u001b[0m\u001b[0mkwargs\u001b[0m\u001b[0;34m)\u001b[0m\u001b[0;34m\u001b[0m\u001b[0;34m\u001b[0m\u001b[0m\n\u001b[0m\u001b[1;32m     39\u001b[0m         \u001b[0;32mfinally\u001b[0m\u001b[0;34m:\u001b[0m\u001b[0;34m\u001b[0m\u001b[0;34m\u001b[0m\u001b[0m\n\u001b[1;32m     40\u001b[0m             \u001b[0;32mif\u001b[0m \u001b[0martist\u001b[0m\u001b[0;34m.\u001b[0m\u001b[0mget_agg_filter\u001b[0m\u001b[0;34m(\u001b[0m\u001b[0;34m)\u001b[0m \u001b[0;32mis\u001b[0m \u001b[0;32mnot\u001b[0m \u001b[0;32mNone\u001b[0m\u001b[0;34m:\u001b[0m\u001b[0;34m\u001b[0m\u001b[0;34m\u001b[0m\u001b[0m\n",
            "\u001b[0;32m/usr/local/lib/python3.7/dist-packages/matplotlib/collections.py\u001b[0m in \u001b[0;36mdraw\u001b[0;34m(self, renderer)\u001b[0m\n\u001b[1;32m    892\u001b[0m     \u001b[0;32mdef\u001b[0m \u001b[0mdraw\u001b[0m\u001b[0;34m(\u001b[0m\u001b[0mself\u001b[0m\u001b[0;34m,\u001b[0m \u001b[0mrenderer\u001b[0m\u001b[0;34m)\u001b[0m\u001b[0;34m:\u001b[0m\u001b[0;34m\u001b[0m\u001b[0;34m\u001b[0m\u001b[0m\n\u001b[1;32m    893\u001b[0m         \u001b[0mself\u001b[0m\u001b[0;34m.\u001b[0m\u001b[0mset_sizes\u001b[0m\u001b[0;34m(\u001b[0m\u001b[0mself\u001b[0m\u001b[0;34m.\u001b[0m\u001b[0m_sizes\u001b[0m\u001b[0;34m,\u001b[0m \u001b[0mself\u001b[0m\u001b[0;34m.\u001b[0m\u001b[0mfigure\u001b[0m\u001b[0;34m.\u001b[0m\u001b[0mdpi\u001b[0m\u001b[0;34m)\u001b[0m\u001b[0;34m\u001b[0m\u001b[0;34m\u001b[0m\u001b[0m\n\u001b[0;32m--> 894\u001b[0;31m         \u001b[0mCollection\u001b[0m\u001b[0;34m.\u001b[0m\u001b[0mdraw\u001b[0m\u001b[0;34m(\u001b[0m\u001b[0mself\u001b[0m\u001b[0;34m,\u001b[0m \u001b[0mrenderer\u001b[0m\u001b[0;34m)\u001b[0m\u001b[0;34m\u001b[0m\u001b[0;34m\u001b[0m\u001b[0m\n\u001b[0m\u001b[1;32m    895\u001b[0m \u001b[0;34m\u001b[0m\u001b[0m\n\u001b[1;32m    896\u001b[0m \u001b[0;34m\u001b[0m\u001b[0m\n",
            "\u001b[0;32m/usr/local/lib/python3.7/dist-packages/matplotlib/artist.py\u001b[0m in \u001b[0;36mdraw_wrapper\u001b[0;34m(artist, renderer, *args, **kwargs)\u001b[0m\n\u001b[1;32m     36\u001b[0m                 \u001b[0mrenderer\u001b[0m\u001b[0;34m.\u001b[0m\u001b[0mstart_filter\u001b[0m\u001b[0;34m(\u001b[0m\u001b[0;34m)\u001b[0m\u001b[0;34m\u001b[0m\u001b[0;34m\u001b[0m\u001b[0m\n\u001b[1;32m     37\u001b[0m \u001b[0;34m\u001b[0m\u001b[0m\n\u001b[0;32m---> 38\u001b[0;31m             \u001b[0;32mreturn\u001b[0m \u001b[0mdraw\u001b[0m\u001b[0;34m(\u001b[0m\u001b[0martist\u001b[0m\u001b[0;34m,\u001b[0m \u001b[0mrenderer\u001b[0m\u001b[0;34m,\u001b[0m \u001b[0;34m*\u001b[0m\u001b[0margs\u001b[0m\u001b[0;34m,\u001b[0m \u001b[0;34m**\u001b[0m\u001b[0mkwargs\u001b[0m\u001b[0;34m)\u001b[0m\u001b[0;34m\u001b[0m\u001b[0;34m\u001b[0m\u001b[0m\n\u001b[0m\u001b[1;32m     39\u001b[0m         \u001b[0;32mfinally\u001b[0m\u001b[0;34m:\u001b[0m\u001b[0;34m\u001b[0m\u001b[0;34m\u001b[0m\u001b[0m\n\u001b[1;32m     40\u001b[0m             \u001b[0;32mif\u001b[0m \u001b[0martist\u001b[0m\u001b[0;34m.\u001b[0m\u001b[0mget_agg_filter\u001b[0m\u001b[0;34m(\u001b[0m\u001b[0;34m)\u001b[0m \u001b[0;32mis\u001b[0m \u001b[0;32mnot\u001b[0m \u001b[0;32mNone\u001b[0m\u001b[0;34m:\u001b[0m\u001b[0;34m\u001b[0m\u001b[0;34m\u001b[0m\u001b[0m\n",
            "\u001b[0;32m/usr/local/lib/python3.7/dist-packages/matplotlib/collections.py\u001b[0m in \u001b[0;36mdraw\u001b[0;34m(self, renderer)\u001b[0m\n\u001b[1;32m    367\u001b[0m                 \u001b[0mself\u001b[0m\u001b[0;34m.\u001b[0m\u001b[0m_linewidths\u001b[0m\u001b[0;34m,\u001b[0m \u001b[0mself\u001b[0m\u001b[0;34m.\u001b[0m\u001b[0m_linestyles\u001b[0m\u001b[0;34m,\u001b[0m\u001b[0;34m\u001b[0m\u001b[0;34m\u001b[0m\u001b[0m\n\u001b[1;32m    368\u001b[0m                 \u001b[0mself\u001b[0m\u001b[0;34m.\u001b[0m\u001b[0m_antialiaseds\u001b[0m\u001b[0;34m,\u001b[0m \u001b[0mself\u001b[0m\u001b[0;34m.\u001b[0m\u001b[0m_urls\u001b[0m\u001b[0;34m,\u001b[0m\u001b[0;34m\u001b[0m\u001b[0;34m\u001b[0m\u001b[0m\n\u001b[0;32m--> 369\u001b[0;31m                 self._offset_position)\n\u001b[0m\u001b[1;32m    370\u001b[0m \u001b[0;34m\u001b[0m\u001b[0m\n\u001b[1;32m    371\u001b[0m         \u001b[0mgc\u001b[0m\u001b[0;34m.\u001b[0m\u001b[0mrestore\u001b[0m\u001b[0;34m(\u001b[0m\u001b[0;34m)\u001b[0m\u001b[0;34m\u001b[0m\u001b[0;34m\u001b[0m\u001b[0m\n",
            "\u001b[0;32m/usr/local/lib/python3.7/dist-packages/matplotlib/path.py\u001b[0m in \u001b[0;36mvertices\u001b[0;34m(self)\u001b[0m\n\u001b[1;32m    195\u001b[0m         )\n\u001b[1;32m    196\u001b[0m \u001b[0;34m\u001b[0m\u001b[0m\n\u001b[0;32m--> 197\u001b[0;31m     \u001b[0;34m@\u001b[0m\u001b[0mproperty\u001b[0m\u001b[0;34m\u001b[0m\u001b[0;34m\u001b[0m\u001b[0m\n\u001b[0m\u001b[1;32m    198\u001b[0m     \u001b[0;32mdef\u001b[0m \u001b[0mvertices\u001b[0m\u001b[0;34m(\u001b[0m\u001b[0mself\u001b[0m\u001b[0;34m)\u001b[0m\u001b[0;34m:\u001b[0m\u001b[0;34m\u001b[0m\u001b[0;34m\u001b[0m\u001b[0m\n\u001b[1;32m    199\u001b[0m         \"\"\"\n",
            "\u001b[0;31mKeyboardInterrupt\u001b[0m: "
          ]
        }
      ]
    },
    {
      "cell_type": "markdown",
      "metadata": {
        "id": "33c09f5b"
      },
      "source": [
        "#### $\\phi_k$ Correlation"
      ],
      "id": "33c09f5b"
    },
    {
      "cell_type": "code",
      "metadata": {
        "id": "c4d83104",
        "colab": {
          "base_uri": "https://localhost:8080/",
          "height": 0
        },
        "outputId": "4389bea5-fac2-4f32-f3e6-65b9064a89b7"
      },
      "source": [
        "corr_matrix = bank_eda.phik_matrix(interval_cols = numerical_features)\n",
        "fig, ax = plt.subplots(figsize=(13, 13))\n",
        "# sns.heatmap(corr_matrix, annot = True, center = 0, cmap='BrBG')\n",
        "sns.heatmap(corr_matrix, annot = True, center = 0, cmap='BrBG')\n",
        "plt.savefig(\"corr.png\", dpi=600)"
      ],
      "id": "c4d83104",
      "execution_count": 100,
      "outputs": [
        {
          "output_type": "display_data",
          "data": {
            "image/png": "[encoded data removed]",
            "text/plain": [
              "<Figure size 936x936 with 2 Axes>"
            ]
          },
          "metadata": {
            "tags": []
          }
        }
      ]
    },
    {
      "cell_type": "markdown",
      "metadata": {
        "id": "dWaVAmjUVJsm"
      },
      "source": [
        "## Data Preparation"
      ],
      "id": "dWaVAmjUVJsm"
    },
    {
      "cell_type": "code",
      "metadata": {
        "id": "6c2d461f"
      },
      "source": [
        "y_encoder = LabelEncoder()\n",
        "X, y = bank_df.drop('y', axis = 1), y_encoder.fit_transform(bank_df['y'])"
      ],
      "id": "6c2d461f",
      "execution_count": 101,
      "outputs": []
    },
    {
      "cell_type": "markdown",
      "metadata": {
        "id": "yQxhp-mX_qrz"
      },
      "source": [
        "### Dropping Features\n",
        "We will drop duration from our dataset, as the duration of a call is unknown before a call is performed. Yet, at the end of the call, when the duration is known, the outcome is also known. Hence, the duration is not available during inference time, and hence is not useful."
      ],
      "id": "yQxhp-mX_qrz"
    },
    {
      "cell_type": "code",
      "metadata": {
        "id": "1TVD_7PZAAhA"
      },
      "source": [
        "X.drop(\"duration\", axis=1, inplace=True)"
      ],
      "id": "1TVD_7PZAAhA",
      "execution_count": 102,
      "outputs": []
    },
    {
      "cell_type": "markdown",
      "metadata": {
        "id": "6269951e"
      },
      "source": [
        "### Baseline Data Preparation\n",
        "We start with a baseline data preprocessing pipeline, which does not do anything with missing values, and performs basic scaling for numerical data."
      ],
      "id": "6269951e"
    },
    {
      "cell_type": "code",
      "metadata": {
        "id": "fe478bcd"
      },
      "source": [
        "numerical_features = ['age', 'balance', 'day', 'campaign', 'pdays', 'previous']\n",
        "categorical_features = ['job', 'marital', 'education', 'default', 'housing', 'loan', 'contact', 'month', 'poutcome']\n",
        "numerical_transformers = Pipeline([\n",
        "    ('Robust Scaler', RobustScaler())\n",
        "])\n",
        "\n",
        "categorical_transformers = Pipeline([\n",
        "    ('One Hot Encoder', OneHotEncoder(handle_unknown='ignore'))\n",
        "])\n",
        "\n",
        "data_preprocessing = ColumnTransformer([\n",
        "    ('Preprocess Numerical Features', numerical_transformers, numerical_features),\n",
        "    ('Preprocess Categorical Features', categorical_transformers, categorical_features)\n",
        "])"
      ],
      "id": "fe478bcd",
      "execution_count": 103,
      "outputs": []
    },
    {
      "cell_type": "markdown",
      "metadata": {
        "id": "5c044e28"
      },
      "source": [
        "## Data Split\n",
        "We will split our data to obtain a hold-out test set to evaluate the performance of the final model. Cross Validation will be done on the rest of the data to evaluate various learning algorithms."
      ],
      "id": "5c044e28"
    },
    {
      "cell_type": "code",
      "metadata": {
        "id": "092e3a57"
      },
      "source": [
        "X_train, X_test, y_train, y_test = train_test_split(X, y, random_state = 42, stratify=y, test_size = .2)"
      ],
      "id": "092e3a57",
      "execution_count": 104,
      "outputs": []
    },
    {
      "cell_type": "code",
      "metadata": {
        "id": "53b942d0",
        "colab": {
          "base_uri": "https://localhost:8080/"
        },
        "outputId": "324af09a-89c2-41de-f18a-21739d356eb7"
      },
      "source": [
        "X_train.shape"
      ],
      "id": "53b942d0",
      "execution_count": 105,
      "outputs": [
        {
          "output_type": "execute_result",
          "data": {
            "text/plain": [
              "(36168, 15)"
            ]
          },
          "metadata": {
            "tags": []
          },
          "execution_count": 105
        }
      ]
    },
    {
      "cell_type": "markdown",
      "metadata": {
        "id": "832f7c3a"
      },
      "source": [
        "## Modelling"
      ],
      "id": "832f7c3a"
    },
    {
      "cell_type": "markdown",
      "metadata": {
        "id": "7e209cc8"
      },
      "source": [
        "### Evaluation \n",
        "To standardize the evaluation of our candidate models, we will create a utility function which will do the following things:\n",
        "1. Obtain a cross validated mean training and validation score of our model\n",
        "2. Update a history of scores of past candidate models\n",
        "3. Generate a learning curve of our model to help in evaluating bias and variance\n",
        "4. If required, return the fitted model."
      ],
      "id": "7e209cc8"
    },
    {
      "cell_type": "code",
      "metadata": {
        "id": "6e74c928"
      },
      "source": [
        "def evaluate_candidate_model(clf, X, y, metrics = ['balanced_accuracy','accuracy'], cv = StratifiedKFold(n_splits = 5, shuffle = True, random_state = 42), model_name = None, history = pd.DataFrame(), return_estimator = False, return_learning_curve = True):\n",
        "    model_name = model_name if model_name is not None else type(clf).__name__\n",
        "    single_metric = type(metrics) in { str, callable }\n",
        "    scores = cross_validate(clf, X, y, cv = cv, scoring = metrics, return_train_score = True, return_estimator = return_estimator, n_jobs= -1)\n",
        "    if return_estimator:\n",
        "        best_estimator = scores[\"estimator\"][np.argmax(scores[\"test_score\"]) if single_metric else np.argmax(scores[f\"test_{metrics[0]}\"])]\n",
        "        del scores[\"estimator\"]\n",
        "    scores = pd.DataFrame(scores).describe().iloc[1:3, 2:].round(5) # Get Summarized Cross Val Scores\n",
        "    his_snapshot = scores.iloc[0, :]\n",
        "    his_snapshot[\"Standard Error of Balanced Accuracy\"] = scores[\"test_balanced_accuracy\"].iloc[1] / np.sqrt(cv.get_n_splits())\n",
        "    his_snapshot.rename(index=model_name, inplace=True)\n",
        "    history = history.append(his_snapshot)\n",
        "    if return_learning_curve:\n",
        "      lr = learning_curve(clf, X, y, scoring = metrics if single_metric else metrics[0], cv = cv, n_jobs=-1)\n",
        "    return scores, history, lr if return_learning_curve else None, best_estimator if return_estimator else None"
      ],
      "id": "6e74c928",
      "execution_count": 106,
      "outputs": []
    },
    {
      "cell_type": "markdown",
      "metadata": {
        "id": "xas_p3Q2VJsq"
      },
      "source": [
        "### Baseline Model"
      ],
      "id": "xas_p3Q2VJsq"
    },
    {
      "cell_type": "code",
      "metadata": {
        "id": "e25fed8e"
      },
      "source": [
        "baseline = Pipeline([\n",
        "    ('Data Preprocessing', data_preprocessing),\n",
        "    ('Model', DummyClassifier())\n",
        "])"
      ],
      "id": "e25fed8e",
      "execution_count": 107,
      "outputs": []
    },
    {
      "cell_type": "code",
      "metadata": {
        "tags": [],
        "id": "983b48d5",
        "colab": {
          "base_uri": "https://localhost:8080/",
          "height": 210
        },
        "outputId": "26313050-02d1-4f14-e1ea-106931673ec2"
      },
      "source": [
        "scores, history, lr, _ = evaluate_candidate_model(baseline, X_train, y_train, model_name= \"Baseline Model\")"
      ],
      "id": "983b48d5",
      "execution_count": 108,
      "outputs": [
        {
          "output_type": "display_data",
          "data": {
            "image/png": "[encoded data removed]",
            "text/plain": [
              "<Figure size 252x189 with 1 Axes>"
            ]
          },
          "metadata": {
            "tags": []
          }
        }
      ]
    },
    {
      "cell_type": "markdown",
      "metadata": {
        "id": "XdBOMl75VJss"
      },
      "source": [
        "Due to the imbalanced classes, the baseline model has a very high accuracy, however, we see that it has an balanced accuracy of only 0.5, as it is completely unable to predict the positive class."
      ],
      "id": "XdBOMl75VJss"
    },
    {
      "cell_type": "markdown",
      "metadata": {
        "id": "4_pEb3vBVJss"
      },
      "source": [
        "### Logistic Regression"
      ],
      "id": "4_pEb3vBVJss"
    },
    {
      "cell_type": "code",
      "metadata": {
        "id": "2e4I6IT0VJst"
      },
      "source": [
        "logreg = Pipeline([\n",
        "    ('Data Preprocessing', data_preprocessing),\n",
        "    ('Model', LogisticRegression(solver='liblinear'))\n",
        "])"
      ],
      "id": "2e4I6IT0VJst",
      "execution_count": 109,
      "outputs": []
    },
    {
      "cell_type": "code",
      "metadata": {
        "tags": [],
        "id": "T9TvFs4nVJst",
        "colab": {
          "base_uri": "https://localhost:8080/",
          "height": 303
        },
        "outputId": "d279bbcb-7a0f-49fe-f464-417d97099058"
      },
      "source": [
        "scores, history, lr, _ = evaluate_candidate_model(logreg,  X_train, y_train, history = history, model_name= \"Logistic Regression\")\n",
        "display(scores)"
      ],
      "id": "T9TvFs4nVJst",
      "execution_count": 110,
      "outputs": [
        {
          "output_type": "display_data",
          "data": {
            "image/png": "[encoded data removed]",
            "text/plain": [
              "<Figure size 252x189 with 1 Axes>"
            ]
          },
          "metadata": {
            "tags": []
          }
        },
        {
          "output_type": "display_data",
          "data": {
            "text/html": [
              "<div>\n",
              "<style scoped>\n",
              "    .dataframe tbody tr th:only-of-type {\n",
              "        vertical-align: middle;\n",
              "    }\n",
              "\n",
              "    .dataframe tbody tr th {\n",
              "        vertical-align: top;\n",
              "    }\n",
              "\n",
              "    .dataframe thead th {\n",
              "        text-align: right;\n",
              "    }\n",
              "</style>\n",
              "<table border=\"1\" class=\"dataframe\">\n",
              "  <thead>\n",
              "    <tr style=\"text-align: right;\">\n",
              "      <th></th>\n",
              "      <th>test_balanced_accuracy</th>\n",
              "      <th>train_balanced_accuracy</th>\n",
              "      <th>test_accuracy</th>\n",
              "      <th>train_accuracy</th>\n",
              "    </tr>\n",
              "  </thead>\n",
              "  <tbody>\n",
              "    <tr>\n",
              "      <th>mean</th>\n",
              "      <td>0.58090</td>\n",
              "      <td>0.58167</td>\n",
              "      <td>0.89209</td>\n",
              "      <td>0.89241</td>\n",
              "    </tr>\n",
              "    <tr>\n",
              "      <th>std</th>\n",
              "      <td>0.00512</td>\n",
              "      <td>0.00120</td>\n",
              "      <td>0.00051</td>\n",
              "      <td>0.00038</td>\n",
              "    </tr>\n",
              "  </tbody>\n",
              "</table>\n",
              "</div>"
            ],
            "text/plain": [
              "      test_balanced_accuracy  ...  train_accuracy\n",
              "mean                 0.58090  ...         0.89241\n",
              "std                  0.00512  ...         0.00038\n",
              "\n",
              "[2 rows x 4 columns]"
            ]
          },
          "metadata": {
            "tags": []
          }
        }
      ]
    },
    {
      "cell_type": "code",
      "metadata": {
        "id": "dE7te007VJst",
        "colab": {
          "base_uri": "https://localhost:8080/",
          "height": 110
        },
        "outputId": "6bb25164-580c-4a08-fd5d-8762b6eaf989"
      },
      "source": [
        "history"
      ],
      "id": "dE7te007VJst",
      "execution_count": 111,
      "outputs": [
        {
          "output_type": "execute_result",
          "data": {
            "text/html": [
              "<div>\n",
              "<style scoped>\n",
              "    .dataframe tbody tr th:only-of-type {\n",
              "        vertical-align: middle;\n",
              "    }\n",
              "\n",
              "    .dataframe tbody tr th {\n",
              "        vertical-align: top;\n",
              "    }\n",
              "\n",
              "    .dataframe thead th {\n",
              "        text-align: right;\n",
              "    }\n",
              "</style>\n",
              "<table border=\"1\" class=\"dataframe\">\n",
              "  <thead>\n",
              "    <tr style=\"text-align: right;\">\n",
              "      <th></th>\n",
              "      <th>Standard Error of Balanced Accuracy</th>\n",
              "      <th>test_accuracy</th>\n",
              "      <th>test_balanced_accuracy</th>\n",
              "      <th>train_accuracy</th>\n",
              "      <th>train_balanced_accuracy</th>\n",
              "    </tr>\n",
              "  </thead>\n",
              "  <tbody>\n",
              "    <tr>\n",
              "      <th>Baseline Model</th>\n",
              "      <td>0.00000</td>\n",
              "      <td>0.88302</td>\n",
              "      <td>0.5000</td>\n",
              "      <td>0.88302</td>\n",
              "      <td>0.50000</td>\n",
              "    </tr>\n",
              "    <tr>\n",
              "      <th>Logistic Regression</th>\n",
              "      <td>0.00229</td>\n",
              "      <td>0.89209</td>\n",
              "      <td>0.5809</td>\n",
              "      <td>0.89241</td>\n",
              "      <td>0.58167</td>\n",
              "    </tr>\n",
              "  </tbody>\n",
              "</table>\n",
              "</div>"
            ],
            "text/plain": [
              "                     Standard Error of Balanced Accuracy  ...  train_balanced_accuracy\n",
              "Baseline Model                                   0.00000  ...                  0.50000\n",
              "Logistic Regression                              0.00229  ...                  0.58167\n",
              "\n",
              "[2 rows x 5 columns]"
            ]
          },
          "metadata": {
            "tags": []
          },
          "execution_count": 111
        }
      ]
    },
    {
      "cell_type": "markdown",
      "metadata": {
        "id": "L_0Z5aNbVJsu"
      },
      "source": [
        "A logistic regression model does better in terms of f1 score than the baseline, but the model still has a high bias due to the class imbalance."
      ],
      "id": "L_0Z5aNbVJsu"
    },
    {
      "cell_type": "markdown",
      "metadata": {
        "id": "z3cdvIcwVJsu"
      },
      "source": [
        "### Evaluating Other Models\n",
        "We use a for-loop to enumerate through various candidate models, to quickly see how without any other pre-processing, different models perform. "
      ],
      "id": "z3cdvIcwVJsu"
    },
    {
      "cell_type": "code",
      "metadata": {
        "tags": [],
        "id": "4Py--KyKVJsu",
        "colab": {
          "base_uri": "https://localhost:8080/"
        },
        "outputId": "2500ead4-9012-449b-86db-1b355d870597"
      },
      "source": [
        "models = [LinearSVC(random_state=random_state), RandomForestClassifier(random_state=random_state), DecisionTreeClassifier(random_state=random_state), GradientBoostingClassifier(random_state=random_state), HistGradientBoostingClassifier(random_state=random_state)]\n",
        "for model in tqdm(models):\n",
        "    model_name = type(model).__name__\n",
        "    model = Pipeline([\n",
        "        ('Data Preprocessing', data_preprocessing),\n",
        "        ('Model', model)\n",
        "    ])\n",
        "    scores, history, lr, _ = evaluate_candidate_model(model, X_train, y_train, history= history, model_name=model_name, return_learning_curve = False)\n",
        "\n"
      ],
      "id": "4Py--KyKVJsu",
      "execution_count": 112,
      "outputs": [
        {
          "output_type": "stream",
          "text": [
            "100%|██████████| 5/5 [01:10<00:00, 14.07s/it]\n"
          ],
          "name": "stderr"
        }
      ]
    },
    {
      "cell_type": "markdown",
      "metadata": {
        "id": "FO5WNYZF7UaJ"
      },
      "source": [
        "### Native Handling of Categorical Variables"
      ],
      "id": "FO5WNYZF7UaJ"
    },
    {
      "cell_type": "code",
      "metadata": {
        "colab": {
          "base_uri": "https://localhost:8080/",
          "height": 210
        },
        "id": "Sds8AX6H7T2G",
        "outputId": "7c92c4ea-f1c2-462a-ef58-8d1b13cd3f97"
      },
      "source": [
        "categorical_features_mask = [False] * len(numerical_features) + [True] * len(categorical_features)\n",
        "clf = Pipeline([\n",
        "    (\"Data Preprocessing\", ColumnTransformer([\n",
        "                                                     (\"Handle Numerical Features\", numerical_transformers, numerical_features),\n",
        "                                                     (\"Handle Categorical Features\", OrdinalEncoder(), categorical_features)])),\n",
        "    ('Model', HistGradientBoostingClassifier(random_state=random_state, categorical_features=categorical_features_mask))\n",
        "])\n",
        "scores, history, lr, _ = evaluate_candidate_model(clf, X_train, y_train, history= history, model_name=f\"{model_name} (Native Handling of Categorical Features)\", return_learning_curve = True)"
      ],
      "id": "Sds8AX6H7T2G",
      "execution_count": 113,
      "outputs": [
        {
          "output_type": "display_data",
          "data": {
            "image/png": "[encoded data removed]",
            "text/plain": [
              "<Figure size 252x189 with 1 Axes>"
            ]
          },
          "metadata": {
            "tags": []
          }
        }
      ]
    },
    {
      "cell_type": "code",
      "metadata": {
        "colab": {
          "base_uri": "https://localhost:8080/",
          "height": 329
        },
        "id": "kf1tdeAt7sg1",
        "outputId": "eb3dbd2e-2593-4baa-91ed-35e38837b56e"
      },
      "source": [
        "display(history)"
      ],
      "id": "kf1tdeAt7sg1",
      "execution_count": 114,
      "outputs": [
        {
          "output_type": "display_data",
          "data": {
            "text/html": [
              "<div>\n",
              "<style scoped>\n",
              "    .dataframe tbody tr th:only-of-type {\n",
              "        vertical-align: middle;\n",
              "    }\n",
              "\n",
              "    .dataframe tbody tr th {\n",
              "        vertical-align: top;\n",
              "    }\n",
              "\n",
              "    .dataframe thead th {\n",
              "        text-align: right;\n",
              "    }\n",
              "</style>\n",
              "<table border=\"1\" class=\"dataframe\">\n",
              "  <thead>\n",
              "    <tr style=\"text-align: right;\">\n",
              "      <th></th>\n",
              "      <th>Standard Error of Balanced Accuracy</th>\n",
              "      <th>test_accuracy</th>\n",
              "      <th>test_balanced_accuracy</th>\n",
              "      <th>train_accuracy</th>\n",
              "      <th>train_balanced_accuracy</th>\n",
              "    </tr>\n",
              "  </thead>\n",
              "  <tbody>\n",
              "    <tr>\n",
              "      <th>Baseline Model</th>\n",
              "      <td>0.000000</td>\n",
              "      <td>0.88302</td>\n",
              "      <td>0.50000</td>\n",
              "      <td>0.88302</td>\n",
              "      <td>0.50000</td>\n",
              "    </tr>\n",
              "    <tr>\n",
              "      <th>Logistic Regression</th>\n",
              "      <td>0.002290</td>\n",
              "      <td>0.89209</td>\n",
              "      <td>0.58090</td>\n",
              "      <td>0.89241</td>\n",
              "      <td>0.58167</td>\n",
              "    </tr>\n",
              "    <tr>\n",
              "      <th>LinearSVC</th>\n",
              "      <td>0.018604</td>\n",
              "      <td>0.84674</td>\n",
              "      <td>0.56569</td>\n",
              "      <td>0.84865</td>\n",
              "      <td>0.56865</td>\n",
              "    </tr>\n",
              "    <tr>\n",
              "      <th>RandomForestClassifier</th>\n",
              "      <td>0.003891</td>\n",
              "      <td>0.89184</td>\n",
              "      <td>0.60300</td>\n",
              "      <td>0.99995</td>\n",
              "      <td>0.99979</td>\n",
              "    </tr>\n",
              "    <tr>\n",
              "      <th>DecisionTreeClassifier</th>\n",
              "      <td>0.005984</td>\n",
              "      <td>0.82836</td>\n",
              "      <td>0.61565</td>\n",
              "      <td>1.00000</td>\n",
              "      <td>1.00000</td>\n",
              "    </tr>\n",
              "    <tr>\n",
              "      <th>GradientBoostingClassifier</th>\n",
              "      <td>0.002567</td>\n",
              "      <td>0.89424</td>\n",
              "      <td>0.59524</td>\n",
              "      <td>0.89861</td>\n",
              "      <td>0.60622</td>\n",
              "    </tr>\n",
              "    <tr>\n",
              "      <th>HistGradientBoostingClassifier</th>\n",
              "      <td>0.003927</td>\n",
              "      <td>0.89350</td>\n",
              "      <td>0.60528</td>\n",
              "      <td>0.90566</td>\n",
              "      <td>0.63633</td>\n",
              "    </tr>\n",
              "    <tr>\n",
              "      <th>HistGradientBoostingClassifier (Native Handling of Categorical Features)</th>\n",
              "      <td>0.004190</td>\n",
              "      <td>0.89399</td>\n",
              "      <td>0.60709</td>\n",
              "      <td>0.90794</td>\n",
              "      <td>0.64318</td>\n",
              "    </tr>\n",
              "  </tbody>\n",
              "</table>\n",
              "</div>"
            ],
            "text/plain": [
              "                                                    Standard Error of Balanced Accuracy  ...  train_balanced_accuracy\n",
              "Baseline Model                                                                 0.000000  ...                  0.50000\n",
              "Logistic Regression                                                            0.002290  ...                  0.58167\n",
              "LinearSVC                                                                      0.018604  ...                  0.56865\n",
              "RandomForestClassifier                                                         0.003891  ...                  0.99979\n",
              "DecisionTreeClassifier                                                         0.005984  ...                  1.00000\n",
              "GradientBoostingClassifier                                                     0.002567  ...                  0.60622\n",
              "HistGradientBoostingClassifier                                                 0.003927  ...                  0.63633\n",
              "HistGradientBoostingClassifier (Native Handling...                             0.004190  ...                  0.64318\n",
              "\n",
              "[8 rows x 5 columns]"
            ]
          },
          "metadata": {
            "tags": []
          }
        }
      ]
    },
    {
      "cell_type": "markdown",
      "metadata": {
        "id": "mb8lHEbOVJsu"
      },
      "source": [
        "Overall, we note that the model with the highest balanced accuracy is the Decision Tree Classifier."
      ],
      "id": "mb8lHEbOVJsu"
    },
    {
      "cell_type": "markdown",
      "metadata": {
        "id": "fc6yetxKVJsv"
      },
      "source": [
        "## Solving the Class Imbalance Problem\n",
        "One problem our learning algorithms face is the lack of enough positive classes in the training data. This limits our algorithms ability to predict the positive class. To solve this, we adopt a strategy of oversampling to generate more training examples of the positive class. "
      ],
      "id": "fc6yetxKVJsv"
    },
    {
      "cell_type": "markdown",
      "metadata": {
        "id": "pu32LPUWVJsv"
      },
      "source": [
        "### Random Oversampling"
      ],
      "id": "pu32LPUWVJsv"
    },
    {
      "cell_type": "code",
      "metadata": {
        "id": "5MYvSSoMVJsv"
      },
      "source": [
        "oversample_hist = history.copy()"
      ],
      "id": "5MYvSSoMVJsv",
      "execution_count": 115,
      "outputs": []
    },
    {
      "cell_type": "code",
      "metadata": {
        "id": "MNg6RCNCVJsv",
        "colab": {
          "base_uri": "https://localhost:8080/",
          "height": 503
        },
        "outputId": "499f5ba6-ffff-4ca6-af3c-90e53ad7b437"
      },
      "source": [
        "models = [LogisticRegression(), RandomForestClassifier(random_state=random_state), DecisionTreeClassifier(random_state=random_state), HistGradientBoostingClassifier(random_state=random_state)]\n",
        "for model in tqdm(models):\n",
        "    model_name = type(model).__name__\n",
        "    model = Pipeline([\n",
        "        ('Data Preprocessing', data_preprocessing),\n",
        "        ('Random Oversampling', RandomOverSampler(random_state=random_state)),\n",
        "        ('Model', model)\n",
        "    ])\n",
        "    scores, oversample_hist, lr, _ = evaluate_candidate_model(model, X_train, y_train, history= oversample_hist, model_name=f\"{model_name} (Random Oversampling)\", return_learning_curve = False)\n",
        "\n",
        "display(oversample_hist)"
      ],
      "id": "MNg6RCNCVJsv",
      "execution_count": 116,
      "outputs": [
        {
          "output_type": "stream",
          "text": [
            "100%|██████████| 4/4 [00:55<00:00, 13.80s/it]\n"
          ],
          "name": "stderr"
        },
        {
          "output_type": "display_data",
          "data": {
            "text/html": [
              "<div>\n",
              "<style scoped>\n",
              "    .dataframe tbody tr th:only-of-type {\n",
              "        vertical-align: middle;\n",
              "    }\n",
              "\n",
              "    .dataframe tbody tr th {\n",
              "        vertical-align: top;\n",
              "    }\n",
              "\n",
              "    .dataframe thead th {\n",
              "        text-align: right;\n",
              "    }\n",
              "</style>\n",
              "<table border=\"1\" class=\"dataframe\">\n",
              "  <thead>\n",
              "    <tr style=\"text-align: right;\">\n",
              "      <th></th>\n",
              "      <th>Standard Error of Balanced Accuracy</th>\n",
              "      <th>test_accuracy</th>\n",
              "      <th>test_balanced_accuracy</th>\n",
              "      <th>train_accuracy</th>\n",
              "      <th>train_balanced_accuracy</th>\n",
              "    </tr>\n",
              "  </thead>\n",
              "  <tbody>\n",
              "    <tr>\n",
              "      <th>Baseline Model</th>\n",
              "      <td>0.000000</td>\n",
              "      <td>0.88302</td>\n",
              "      <td>0.50000</td>\n",
              "      <td>0.88302</td>\n",
              "      <td>0.50000</td>\n",
              "    </tr>\n",
              "    <tr>\n",
              "      <th>Logistic Regression</th>\n",
              "      <td>0.002290</td>\n",
              "      <td>0.89209</td>\n",
              "      <td>0.58090</td>\n",
              "      <td>0.89241</td>\n",
              "      <td>0.58167</td>\n",
              "    </tr>\n",
              "    <tr>\n",
              "      <th>LinearSVC</th>\n",
              "      <td>0.018604</td>\n",
              "      <td>0.84674</td>\n",
              "      <td>0.56569</td>\n",
              "      <td>0.84865</td>\n",
              "      <td>0.56865</td>\n",
              "    </tr>\n",
              "    <tr>\n",
              "      <th>RandomForestClassifier</th>\n",
              "      <td>0.003891</td>\n",
              "      <td>0.89184</td>\n",
              "      <td>0.60300</td>\n",
              "      <td>0.99995</td>\n",
              "      <td>0.99979</td>\n",
              "    </tr>\n",
              "    <tr>\n",
              "      <th>DecisionTreeClassifier</th>\n",
              "      <td>0.005984</td>\n",
              "      <td>0.82836</td>\n",
              "      <td>0.61565</td>\n",
              "      <td>1.00000</td>\n",
              "      <td>1.00000</td>\n",
              "    </tr>\n",
              "    <tr>\n",
              "      <th>GradientBoostingClassifier</th>\n",
              "      <td>0.002567</td>\n",
              "      <td>0.89424</td>\n",
              "      <td>0.59524</td>\n",
              "      <td>0.89861</td>\n",
              "      <td>0.60622</td>\n",
              "    </tr>\n",
              "    <tr>\n",
              "      <th>HistGradientBoostingClassifier</th>\n",
              "      <td>0.003927</td>\n",
              "      <td>0.89350</td>\n",
              "      <td>0.60528</td>\n",
              "      <td>0.90566</td>\n",
              "      <td>0.63633</td>\n",
              "    </tr>\n",
              "    <tr>\n",
              "      <th>HistGradientBoostingClassifier (Native Handling of Categorical Features)</th>\n",
              "      <td>0.004190</td>\n",
              "      <td>0.89399</td>\n",
              "      <td>0.60709</td>\n",
              "      <td>0.90794</td>\n",
              "      <td>0.64318</td>\n",
              "    </tr>\n",
              "    <tr>\n",
              "      <th>LogisticRegression (Random Oversampling)</th>\n",
              "      <td>0.002750</td>\n",
              "      <td>0.73855</td>\n",
              "      <td>0.69490</td>\n",
              "      <td>0.74036</td>\n",
              "      <td>0.69941</td>\n",
              "    </tr>\n",
              "    <tr>\n",
              "      <th>RandomForestClassifier (Random Oversampling)</th>\n",
              "      <td>0.005062</td>\n",
              "      <td>0.88526</td>\n",
              "      <td>0.63639</td>\n",
              "      <td>1.00000</td>\n",
              "      <td>1.00000</td>\n",
              "    </tr>\n",
              "    <tr>\n",
              "      <th>DecisionTreeClassifier (Random Oversampling)</th>\n",
              "      <td>0.003238</td>\n",
              "      <td>0.83532</td>\n",
              "      <td>0.60668</td>\n",
              "      <td>1.00000</td>\n",
              "      <td>1.00000</td>\n",
              "    </tr>\n",
              "    <tr>\n",
              "      <th>HistGradientBoostingClassifier (Random Oversampling)</th>\n",
              "      <td>0.002048</td>\n",
              "      <td>0.82714</td>\n",
              "      <td>0.73347</td>\n",
              "      <td>0.84974</td>\n",
              "      <td>0.79600</td>\n",
              "    </tr>\n",
              "  </tbody>\n",
              "</table>\n",
              "</div>"
            ],
            "text/plain": [
              "                                                    Standard Error of Balanced Accuracy  ...  train_balanced_accuracy\n",
              "Baseline Model                                                                 0.000000  ...                  0.50000\n",
              "Logistic Regression                                                            0.002290  ...                  0.58167\n",
              "LinearSVC                                                                      0.018604  ...                  0.56865\n",
              "RandomForestClassifier                                                         0.003891  ...                  0.99979\n",
              "DecisionTreeClassifier                                                         0.005984  ...                  1.00000\n",
              "GradientBoostingClassifier                                                     0.002567  ...                  0.60622\n",
              "HistGradientBoostingClassifier                                                 0.003927  ...                  0.63633\n",
              "HistGradientBoostingClassifier (Native Handling...                             0.004190  ...                  0.64318\n",
              "LogisticRegression (Random Oversampling)                                       0.002750  ...                  0.69941\n",
              "RandomForestClassifier (Random Oversampling)                                   0.005062  ...                  1.00000\n",
              "DecisionTreeClassifier (Random Oversampling)                                   0.003238  ...                  1.00000\n",
              "HistGradientBoostingClassifier (Random Oversamp...                             0.002048  ...                  0.79600\n",
              "\n",
              "[12 rows x 5 columns]"
            ]
          },
          "metadata": {
            "tags": []
          }
        }
      ]
    },
    {
      "cell_type": "markdown",
      "metadata": {
        "id": "431AsWldVJsv"
      },
      "source": [
        "Performing Random Oversampling on the training fold helps improves the balanced accuracy and f1 score of the overall models. Using balanced accuracy, we find that Gradient Boosted Trees perform the best.\n",
        "\n",
        "We also note that RandomForests is able to overtake the Decision Tree classifier after random oversampling is done on the model."
      ],
      "id": "431AsWldVJsv"
    },
    {
      "cell_type": "code",
      "metadata": {
        "colab": {
          "base_uri": "https://localhost:8080/",
          "height": 210
        },
        "id": "kmXn89gwSYhq",
        "outputId": "2a457988-0376-4a72-df7d-cca7eba95fec"
      },
      "source": [
        "categorical_features_mask = [False] * len(numerical_features) + [True] * len(categorical_features)\n",
        "clf = Pipeline([\n",
        "    (\"Data Preprocessing\", ColumnTransformer([\n",
        "                                                     (\"Handle Numerical Features\", numerical_transformers, numerical_features),\n",
        "                                                     (\"Handle Categorical Features\", OrdinalEncoder(), categorical_features)])),\n",
        "    (\"Random Oversampling\", RandomOverSampler(random_state=random_state)),\n",
        "    ('Model', HistGradientBoostingClassifier(random_state=random_state, categorical_features=categorical_features_mask))\n",
        "])\n",
        "scores, oversample_hist, lr, _ = evaluate_candidate_model(clf, X_train, y_train, history= oversample_hist, model_name=f\"{model_name} (Random Sampling & Native Handling of Categorical Features)\", return_learning_curve = True)"
      ],
      "id": "kmXn89gwSYhq",
      "execution_count": 117,
      "outputs": [
        {
          "output_type": "display_data",
          "data": {
            "image/png": "[encoded data removed]",
            "text/plain": [
              "<Figure size 252x189 with 1 Axes>"
            ]
          },
          "metadata": {
            "tags": []
          }
        }
      ]
    },
    {
      "cell_type": "markdown",
      "metadata": {
        "id": "cciN874YoSiw"
      },
      "source": [
        "### SMOTE-NC"
      ],
      "id": "cciN874YoSiw"
    },
    {
      "cell_type": "code",
      "metadata": {
        "colab": {
          "base_uri": "https://localhost:8080/"
        },
        "id": "wMsI8XhCD_ST",
        "outputId": "6709e459-6f6a-45e2-e3c5-1867e1e12543"
      },
      "source": [
        "numerical_features"
      ],
      "id": "wMsI8XhCD_ST",
      "execution_count": 118,
      "outputs": [
        {
          "output_type": "execute_result",
          "data": {
            "text/plain": [
              "['age', 'balance', 'day', 'campaign', 'pdays', 'previous']"
            ]
          },
          "metadata": {
            "tags": []
          },
          "execution_count": 118
        }
      ]
    },
    {
      "cell_type": "code",
      "metadata": {
        "id": "_KmNF8ePpLLe"
      },
      "source": [
        "cat_features_colselect = [col in categorical_features for col in X_train.columns]\n",
        "categorical_features_boolary = [True] * len(categorical_features) + [False] * len(numerical_features)\n",
        "numerical_features_boolary =  [False] * len(numerical_features) + [True] * len(categorical_features)"
      ],
      "id": "_KmNF8ePpLLe",
      "execution_count": 119,
      "outputs": []
    },
    {
      "cell_type": "code",
      "metadata": {
        "id": "AAoJs6nsFNjf"
      },
      "source": [
        "smote_nc = Pipeline([\n",
        "                     (\"Encode Categorical as Numeric\", ColumnTransformer(\n",
        "                         [(\"Encode Cat as Numerical\", OrdinalEncoder(), cat_features_colselect)]\n",
        "                     , remainder=\"passthrough\")),\n",
        "                     (\"SMOTE-NC\", SMOTENC(categorical_features=categorical_features_boolary, random_state=random_state))\n",
        "])"
      ],
      "id": "AAoJs6nsFNjf",
      "execution_count": 120,
      "outputs": []
    },
    {
      "cell_type": "code",
      "metadata": {
        "colab": {
          "base_uri": "https://localhost:8080/",
          "height": 711
        },
        "id": "3esJbreX2i2e",
        "outputId": "1f8fa719-8c2a-4190-b09c-b40a19ae8d21"
      },
      "source": [
        "models = [LogisticRegression(), RandomForestClassifier(random_state=random_state), DecisionTreeClassifier(random_state=random_state), HistGradientBoostingClassifier(random_state=random_state)]\n",
        "for model in tqdm(models):\n",
        "    model_name = type(model).__name__\n",
        "    model = Pipeline([\n",
        "        (\"Encode Categorical as Numeric\", ColumnTransformer(\n",
        "            [(\"Encode Cat as Numerical\", OrdinalEncoder(), cat_features_colselect)]\n",
        "        , remainder=\"passthrough\")),\n",
        "        (\"SMOTE-NC\", SMOTENC(categorical_features=categorical_features_boolary, random_state=random_state)),\n",
        "        (\"OHE\", ColumnTransformer(\n",
        "            [(\"OHE\", OneHotEncoder(), categorical_features_boolary), (\"RobustScaler\", RobustScaler(), numerical_features_boolary)]\n",
        "        )),\n",
        "        ('Model', model)\n",
        "    ])\n",
        "    scores, oversample_hist, lr, _ = evaluate_candidate_model(model, X_train, y_train, history= oversample_hist, model_name=f\"{model_name} (SMOTE-NC)\", return_learning_curve = False)\n",
        "\n",
        "display(oversample_hist)"
      ],
      "id": "3esJbreX2i2e",
      "execution_count": 121,
      "outputs": [
        {
          "output_type": "stream",
          "text": [
            "\r  0%|          | 0/4 [00:00<?, ?it/s]/usr/local/lib/python3.7/dist-packages/joblib/externals/loky/process_executor.py:691: UserWarning: A worker stopped while some jobs were given to the executor. This can be caused by a too short worker timeout or by a memory leak.\n",
            "  \"timeout or by a memory leak.\", UserWarning\n",
            "100%|██████████| 4/4 [02:31<00:00, 37.81s/it]\n"
          ],
          "name": "stderr"
        },
        {
          "output_type": "display_data",
          "data": {
            "text/html": [
              "<div>\n",
              "<style scoped>\n",
              "    .dataframe tbody tr th:only-of-type {\n",
              "        vertical-align: middle;\n",
              "    }\n",
              "\n",
              "    .dataframe tbody tr th {\n",
              "        vertical-align: top;\n",
              "    }\n",
              "\n",
              "    .dataframe thead th {\n",
              "        text-align: right;\n",
              "    }\n",
              "</style>\n",
              "<table border=\"1\" class=\"dataframe\">\n",
              "  <thead>\n",
              "    <tr style=\"text-align: right;\">\n",
              "      <th></th>\n",
              "      <th>Standard Error of Balanced Accuracy</th>\n",
              "      <th>test_accuracy</th>\n",
              "      <th>test_balanced_accuracy</th>\n",
              "      <th>train_accuracy</th>\n",
              "      <th>train_balanced_accuracy</th>\n",
              "    </tr>\n",
              "  </thead>\n",
              "  <tbody>\n",
              "    <tr>\n",
              "      <th>Baseline Model</th>\n",
              "      <td>0.000000</td>\n",
              "      <td>0.88302</td>\n",
              "      <td>0.50000</td>\n",
              "      <td>0.88302</td>\n",
              "      <td>0.50000</td>\n",
              "    </tr>\n",
              "    <tr>\n",
              "      <th>Logistic Regression</th>\n",
              "      <td>0.002290</td>\n",
              "      <td>0.89209</td>\n",
              "      <td>0.58090</td>\n",
              "      <td>0.89241</td>\n",
              "      <td>0.58167</td>\n",
              "    </tr>\n",
              "    <tr>\n",
              "      <th>LinearSVC</th>\n",
              "      <td>0.018604</td>\n",
              "      <td>0.84674</td>\n",
              "      <td>0.56569</td>\n",
              "      <td>0.84865</td>\n",
              "      <td>0.56865</td>\n",
              "    </tr>\n",
              "    <tr>\n",
              "      <th>RandomForestClassifier</th>\n",
              "      <td>0.003891</td>\n",
              "      <td>0.89184</td>\n",
              "      <td>0.60300</td>\n",
              "      <td>0.99995</td>\n",
              "      <td>0.99979</td>\n",
              "    </tr>\n",
              "    <tr>\n",
              "      <th>DecisionTreeClassifier</th>\n",
              "      <td>0.005984</td>\n",
              "      <td>0.82836</td>\n",
              "      <td>0.61565</td>\n",
              "      <td>1.00000</td>\n",
              "      <td>1.00000</td>\n",
              "    </tr>\n",
              "    <tr>\n",
              "      <th>GradientBoostingClassifier</th>\n",
              "      <td>0.002567</td>\n",
              "      <td>0.89424</td>\n",
              "      <td>0.59524</td>\n",
              "      <td>0.89861</td>\n",
              "      <td>0.60622</td>\n",
              "    </tr>\n",
              "    <tr>\n",
              "      <th>HistGradientBoostingClassifier</th>\n",
              "      <td>0.003927</td>\n",
              "      <td>0.89350</td>\n",
              "      <td>0.60528</td>\n",
              "      <td>0.90566</td>\n",
              "      <td>0.63633</td>\n",
              "    </tr>\n",
              "    <tr>\n",
              "      <th>HistGradientBoostingClassifier (Native Handling of Categorical Features)</th>\n",
              "      <td>0.004190</td>\n",
              "      <td>0.89399</td>\n",
              "      <td>0.60709</td>\n",
              "      <td>0.90794</td>\n",
              "      <td>0.64318</td>\n",
              "    </tr>\n",
              "    <tr>\n",
              "      <th>LogisticRegression (Random Oversampling)</th>\n",
              "      <td>0.002750</td>\n",
              "      <td>0.73855</td>\n",
              "      <td>0.69490</td>\n",
              "      <td>0.74036</td>\n",
              "      <td>0.69941</td>\n",
              "    </tr>\n",
              "    <tr>\n",
              "      <th>RandomForestClassifier (Random Oversampling)</th>\n",
              "      <td>0.005062</td>\n",
              "      <td>0.88526</td>\n",
              "      <td>0.63639</td>\n",
              "      <td>1.00000</td>\n",
              "      <td>1.00000</td>\n",
              "    </tr>\n",
              "    <tr>\n",
              "      <th>DecisionTreeClassifier (Random Oversampling)</th>\n",
              "      <td>0.003238</td>\n",
              "      <td>0.83532</td>\n",
              "      <td>0.60668</td>\n",
              "      <td>1.00000</td>\n",
              "      <td>1.00000</td>\n",
              "    </tr>\n",
              "    <tr>\n",
              "      <th>HistGradientBoostingClassifier (Random Oversampling)</th>\n",
              "      <td>0.002048</td>\n",
              "      <td>0.82714</td>\n",
              "      <td>0.73347</td>\n",
              "      <td>0.84974</td>\n",
              "      <td>0.79600</td>\n",
              "    </tr>\n",
              "    <tr>\n",
              "      <th>HistGradientBoostingClassifier (Random Sampling &amp; Native Handling of Categorical Features)</th>\n",
              "      <td>0.002249</td>\n",
              "      <td>0.83015</td>\n",
              "      <td>0.73395</td>\n",
              "      <td>0.85561</td>\n",
              "      <td>0.80609</td>\n",
              "    </tr>\n",
              "    <tr>\n",
              "      <th>LogisticRegression (SMOTE-NC)</th>\n",
              "      <td>0.001722</td>\n",
              "      <td>0.72224</td>\n",
              "      <td>0.66301</td>\n",
              "      <td>0.72433</td>\n",
              "      <td>0.66619</td>\n",
              "    </tr>\n",
              "    <tr>\n",
              "      <th>RandomForestClassifier (SMOTE-NC)</th>\n",
              "      <td>0.005045</td>\n",
              "      <td>0.86397</td>\n",
              "      <td>0.67529</td>\n",
              "      <td>0.99994</td>\n",
              "      <td>0.99979</td>\n",
              "    </tr>\n",
              "    <tr>\n",
              "      <th>DecisionTreeClassifier (SMOTE-NC)</th>\n",
              "      <td>0.003095</td>\n",
              "      <td>0.80806</td>\n",
              "      <td>0.62261</td>\n",
              "      <td>1.00000</td>\n",
              "      <td>1.00000</td>\n",
              "    </tr>\n",
              "    <tr>\n",
              "      <th>HistGradientBoostingClassifier (SMOTE-NC)</th>\n",
              "      <td>0.005894</td>\n",
              "      <td>0.88509</td>\n",
              "      <td>0.65547</td>\n",
              "      <td>0.89581</td>\n",
              "      <td>0.67814</td>\n",
              "    </tr>\n",
              "  </tbody>\n",
              "</table>\n",
              "</div>"
            ],
            "text/plain": [
              "                                                    Standard Error of Balanced Accuracy  ...  train_balanced_accuracy\n",
              "Baseline Model                                                                 0.000000  ...                  0.50000\n",
              "Logistic Regression                                                            0.002290  ...                  0.58167\n",
              "LinearSVC                                                                      0.018604  ...                  0.56865\n",
              "RandomForestClassifier                                                         0.003891  ...                  0.99979\n",
              "DecisionTreeClassifier                                                         0.005984  ...                  1.00000\n",
              "GradientBoostingClassifier                                                     0.002567  ...                  0.60622\n",
              "HistGradientBoostingClassifier                                                 0.003927  ...                  0.63633\n",
              "HistGradientBoostingClassifier (Native Handling...                             0.004190  ...                  0.64318\n",
              "LogisticRegression (Random Oversampling)                                       0.002750  ...                  0.69941\n",
              "RandomForestClassifier (Random Oversampling)                                   0.005062  ...                  1.00000\n",
              "DecisionTreeClassifier (Random Oversampling)                                   0.003238  ...                  1.00000\n",
              "HistGradientBoostingClassifier (Random Oversamp...                             0.002048  ...                  0.79600\n",
              "HistGradientBoostingClassifier (Random Sampling...                             0.002249  ...                  0.80609\n",
              "LogisticRegression (SMOTE-NC)                                                  0.001722  ...                  0.66619\n",
              "RandomForestClassifier (SMOTE-NC)                                              0.005045  ...                  0.99979\n",
              "DecisionTreeClassifier (SMOTE-NC)                                              0.003095  ...                  1.00000\n",
              "HistGradientBoostingClassifier (SMOTE-NC)                                      0.005894  ...                  0.67814\n",
              "\n",
              "[17 rows x 5 columns]"
            ]
          },
          "metadata": {
            "tags": []
          }
        }
      ]
    },
    {
      "cell_type": "markdown",
      "metadata": {
        "id": "MXQzHQekoXCr"
      },
      "source": [
        "## Further Model Improvement"
      ],
      "id": "MXQzHQekoXCr"
    },
    {
      "cell_type": "code",
      "metadata": {
        "colab": {
          "base_uri": "https://localhost:8080/",
          "height": 415
        },
        "id": "bauj-WVZLL2d",
        "outputId": "0bef34ca-b213-4179-9b90-36fd9727ab37"
      },
      "source": [
        "clf = Pipeline([\n",
        "        (\"Encode Categorical as Numeric\", ColumnTransformer(\n",
        "            [(\"Encode Cat as Numerical\", OrdinalEncoder(), cat_features_colselect)]\n",
        "        , remainder=\"passthrough\")),\n",
        "        (\"SMOTE-NC\", SMOTENC(categorical_features=categorical_features_boolary, random_state=random_state)),\n",
        "        (\"RobustScaling\", ColumnTransformer(\n",
        "            [(\"RobustScaler\", RobustScaler(), [9, 10, 11, 12, 13, 14])], remainder=\"passthrough\"\n",
        "        ))\n",
        "    ])\n",
        "pd.DataFrame(clf.fit_transform(X_train, y_train))"
      ],
      "id": "bauj-WVZLL2d",
      "execution_count": 122,
      "outputs": [
        {
          "output_type": "execute_result",
          "data": {
            "text/html": [
              "<div>\n",
              "<style scoped>\n",
              "    .dataframe tbody tr th:only-of-type {\n",
              "        vertical-align: middle;\n",
              "    }\n",
              "\n",
              "    .dataframe tbody tr th {\n",
              "        vertical-align: top;\n",
              "    }\n",
              "\n",
              "    .dataframe thead th {\n",
              "        text-align: right;\n",
              "    }\n",
              "</style>\n",
              "<table border=\"1\" class=\"dataframe\">\n",
              "  <thead>\n",
              "    <tr style=\"text-align: right;\">\n",
              "      <th></th>\n",
              "      <th>0</th>\n",
              "      <th>1</th>\n",
              "      <th>2</th>\n",
              "      <th>3</th>\n",
              "      <th>4</th>\n",
              "      <th>5</th>\n",
              "      <th>6</th>\n",
              "      <th>7</th>\n",
              "      <th>8</th>\n",
              "      <th>9</th>\n",
              "      <th>10</th>\n",
              "      <th>11</th>\n",
              "      <th>12</th>\n",
              "      <th>13</th>\n",
              "      <th>14</th>\n",
              "    </tr>\n",
              "  </thead>\n",
              "  <tbody>\n",
              "    <tr>\n",
              "      <th>0</th>\n",
              "      <td>-0.181587</td>\n",
              "      <td>0.182942</td>\n",
              "      <td>1.151185</td>\n",
              "      <td>0.000000</td>\n",
              "      <td>0.000000</td>\n",
              "      <td>0.000000</td>\n",
              "      <td>9.0</td>\n",
              "      <td>0.0</td>\n",
              "      <td>1.0</td>\n",
              "      <td>0.0</td>\n",
              "      <td>0.0</td>\n",
              "      <td>0.0</td>\n",
              "      <td>1.0</td>\n",
              "      <td>1.0</td>\n",
              "      <td>3.0</td>\n",
              "    </tr>\n",
              "    <tr>\n",
              "      <th>1</th>\n",
              "      <td>-0.907935</td>\n",
              "      <td>2.200865</td>\n",
              "      <td>-0.822275</td>\n",
              "      <td>1.000000</td>\n",
              "      <td>3.172867</td>\n",
              "      <td>7.000000</td>\n",
              "      <td>8.0</td>\n",
              "      <td>2.0</td>\n",
              "      <td>1.0</td>\n",
              "      <td>0.0</td>\n",
              "      <td>0.0</td>\n",
              "      <td>0.0</td>\n",
              "      <td>0.0</td>\n",
              "      <td>0.0</td>\n",
              "      <td>0.0</td>\n",
              "    </tr>\n",
              "    <tr>\n",
              "      <th>2</th>\n",
              "      <td>0.302645</td>\n",
              "      <td>-0.198393</td>\n",
              "      <td>-0.246683</td>\n",
              "      <td>1.000000</td>\n",
              "      <td>0.000000</td>\n",
              "      <td>0.000000</td>\n",
              "      <td>9.0</td>\n",
              "      <td>2.0</td>\n",
              "      <td>1.0</td>\n",
              "      <td>0.0</td>\n",
              "      <td>1.0</td>\n",
              "      <td>0.0</td>\n",
              "      <td>0.0</td>\n",
              "      <td>1.0</td>\n",
              "      <td>3.0</td>\n",
              "    </tr>\n",
              "    <tr>\n",
              "      <th>3</th>\n",
              "      <td>0.544761</td>\n",
              "      <td>-0.349197</td>\n",
              "      <td>1.315640</td>\n",
              "      <td>4.500000</td>\n",
              "      <td>0.000000</td>\n",
              "      <td>0.000000</td>\n",
              "      <td>10.0</td>\n",
              "      <td>1.0</td>\n",
              "      <td>1.0</td>\n",
              "      <td>0.0</td>\n",
              "      <td>0.0</td>\n",
              "      <td>0.0</td>\n",
              "      <td>1.0</td>\n",
              "      <td>5.0</td>\n",
              "      <td>3.0</td>\n",
              "    </tr>\n",
              "    <tr>\n",
              "      <th>4</th>\n",
              "      <td>-0.060529</td>\n",
              "      <td>-0.190358</td>\n",
              "      <td>0.904503</td>\n",
              "      <td>4.000000</td>\n",
              "      <td>0.000000</td>\n",
              "      <td>0.000000</td>\n",
              "      <td>9.0</td>\n",
              "      <td>1.0</td>\n",
              "      <td>1.0</td>\n",
              "      <td>0.0</td>\n",
              "      <td>0.0</td>\n",
              "      <td>0.0</td>\n",
              "      <td>0.0</td>\n",
              "      <td>1.0</td>\n",
              "      <td>3.0</td>\n",
              "    </tr>\n",
              "    <tr>\n",
              "      <th>...</th>\n",
              "      <td>...</td>\n",
              "      <td>...</td>\n",
              "      <td>...</td>\n",
              "      <td>...</td>\n",
              "      <td>...</td>\n",
              "      <td>...</td>\n",
              "      <td>...</td>\n",
              "      <td>...</td>\n",
              "      <td>...</td>\n",
              "      <td>...</td>\n",
              "      <td>...</td>\n",
              "      <td>...</td>\n",
              "      <td>...</td>\n",
              "      <td>...</td>\n",
              "      <td>...</td>\n",
              "    </tr>\n",
              "    <tr>\n",
              "      <th>63869</th>\n",
              "      <td>0.471602</td>\n",
              "      <td>-0.467601</td>\n",
              "      <td>-0.333118</td>\n",
              "      <td>-0.210630</td>\n",
              "      <td>0.000000</td>\n",
              "      <td>0.000000</td>\n",
              "      <td>1.0</td>\n",
              "      <td>1.0</td>\n",
              "      <td>0.0</td>\n",
              "      <td>0.0</td>\n",
              "      <td>1.0</td>\n",
              "      <td>1.0</td>\n",
              "      <td>0.0</td>\n",
              "      <td>5.0</td>\n",
              "      <td>3.0</td>\n",
              "    </tr>\n",
              "    <tr>\n",
              "      <th>63870</th>\n",
              "      <td>-0.423703</td>\n",
              "      <td>1.219369</td>\n",
              "      <td>0.851335</td>\n",
              "      <td>1.806024</td>\n",
              "      <td>0.000000</td>\n",
              "      <td>0.000000</td>\n",
              "      <td>9.0</td>\n",
              "      <td>2.0</td>\n",
              "      <td>2.0</td>\n",
              "      <td>0.0</td>\n",
              "      <td>0.0</td>\n",
              "      <td>0.0</td>\n",
              "      <td>0.0</td>\n",
              "      <td>0.0</td>\n",
              "      <td>3.0</td>\n",
              "    </tr>\n",
              "    <tr>\n",
              "      <th>63871</th>\n",
              "      <td>1.277527</td>\n",
              "      <td>-0.165799</td>\n",
              "      <td>0.060631</td>\n",
              "      <td>0.315661</td>\n",
              "      <td>0.000000</td>\n",
              "      <td>0.000000</td>\n",
              "      <td>4.0</td>\n",
              "      <td>1.0</td>\n",
              "      <td>1.0</td>\n",
              "      <td>0.0</td>\n",
              "      <td>0.0</td>\n",
              "      <td>0.0</td>\n",
              "      <td>0.0</td>\n",
              "      <td>6.0</td>\n",
              "      <td>3.0</td>\n",
              "    </tr>\n",
              "    <tr>\n",
              "      <th>63872</th>\n",
              "      <td>0.936062</td>\n",
              "      <td>1.783680</td>\n",
              "      <td>-0.377720</td>\n",
              "      <td>-0.500000</td>\n",
              "      <td>3.104633</td>\n",
              "      <td>2.090313</td>\n",
              "      <td>9.0</td>\n",
              "      <td>2.0</td>\n",
              "      <td>2.0</td>\n",
              "      <td>0.0</td>\n",
              "      <td>0.0</td>\n",
              "      <td>0.0</td>\n",
              "      <td>0.0</td>\n",
              "      <td>3.0</td>\n",
              "      <td>2.0</td>\n",
              "    </tr>\n",
              "    <tr>\n",
              "      <th>63873</th>\n",
              "      <td>-0.001000</td>\n",
              "      <td>0.100742</td>\n",
              "      <td>0.252116</td>\n",
              "      <td>-0.500000</td>\n",
              "      <td>0.000000</td>\n",
              "      <td>0.000000</td>\n",
              "      <td>0.0</td>\n",
              "      <td>2.0</td>\n",
              "      <td>1.0</td>\n",
              "      <td>0.0</td>\n",
              "      <td>1.0</td>\n",
              "      <td>0.0</td>\n",
              "      <td>0.0</td>\n",
              "      <td>0.0</td>\n",
              "      <td>3.0</td>\n",
              "    </tr>\n",
              "  </tbody>\n",
              "</table>\n",
              "<p>63874 rows × 15 columns</p>\n",
              "</div>"
            ],
            "text/plain": [
              "             0         1         2         3   ...   11   12   13   14\n",
              "0     -0.181587  0.182942  1.151185  0.000000  ...  0.0  1.0  1.0  3.0\n",
              "1     -0.907935  2.200865 -0.822275  1.000000  ...  0.0  0.0  0.0  0.0\n",
              "2      0.302645 -0.198393 -0.246683  1.000000  ...  0.0  0.0  1.0  3.0\n",
              "3      0.544761 -0.349197  1.315640  4.500000  ...  0.0  1.0  5.0  3.0\n",
              "4     -0.060529 -0.190358  0.904503  4.000000  ...  0.0  0.0  1.0  3.0\n",
              "...         ...       ...       ...       ...  ...  ...  ...  ...  ...\n",
              "63869  0.471602 -0.467601 -0.333118 -0.210630  ...  1.0  0.0  5.0  3.0\n",
              "63870 -0.423703  1.219369  0.851335  1.806024  ...  0.0  0.0  0.0  3.0\n",
              "63871  1.277527 -0.165799  0.060631  0.315661  ...  0.0  0.0  6.0  3.0\n",
              "63872  0.936062  1.783680 -0.377720 -0.500000  ...  0.0  0.0  3.0  2.0\n",
              "63873 -0.001000  0.100742  0.252116 -0.500000  ...  0.0  0.0  0.0  3.0\n",
              "\n",
              "[63874 rows x 15 columns]"
            ]
          },
          "metadata": {
            "tags": []
          },
          "execution_count": 122
        }
      ]
    },
    {
      "cell_type": "code",
      "metadata": {
        "id": "j5fZ783yLtJ6"
      },
      "source": [
        ""
      ],
      "id": "j5fZ783yLtJ6",
      "execution_count": 122,
      "outputs": []
    },
    {
      "cell_type": "code",
      "metadata": {
        "colab": {
          "base_uri": "https://localhost:8080/",
          "height": 210
        },
        "id": "YQDb9dAGtZW5",
        "outputId": "873d8b55-3b68-4992-d8a3-98f61ab41fa6"
      },
      "source": [
        "hist_mask = [False] * len(numerical_features) + [True] * len(categorical_features)\n",
        "clf = Pipeline([\n",
        "        (\"Encode Categorical as Numeric\", ColumnTransformer(\n",
        "            [(\"Encode Cat as Numerical\", OrdinalEncoder(), cat_features_colselect)]\n",
        "        , remainder=\"passthrough\")),\n",
        "        (\"SMOTE-NC\", SMOTENC(categorical_features=categorical_features_boolary, random_state=random_state)),\n",
        "        (\"RobustScaling\", ColumnTransformer(\n",
        "            [(\"RobustScaler\", RobustScaler(),  [9, 10, 11, 12, 13, 14])], remainder=\"passthrough\"\n",
        "        )),\n",
        "        ('Model', HistGradientBoostingClassifier(categorical_features=hist_mask))\n",
        "    ])\n",
        "scores, oversample_hist, lr, _ = evaluate_candidate_model(clf, X_train, y_train, history= oversample_hist, model_name=f\"{model_name} (SMOTE-NC & Native Handling of Categorical Features)\", return_learning_curve = True)"
      ],
      "id": "YQDb9dAGtZW5",
      "execution_count": 123,
      "outputs": [
        {
          "output_type": "display_data",
          "data": {
            "image/png": "[encoded data removed]",
            "text/plain": [
              "<Figure size 252x189 with 1 Axes>"
            ]
          },
          "metadata": {
            "tags": []
          }
        }
      ]
    },
    {
      "cell_type": "code",
      "metadata": {
        "colab": {
          "base_uri": "https://localhost:8080/",
          "height": 635
        },
        "id": "Y7I4y1QRmzYW",
        "outputId": "6963d8dc-52c6-43ad-af4b-6ce77d00ac66"
      },
      "source": [
        "oversample_hist[[\"train_balanced_accuracy\", \"train_accuracy\", \"test_balanced_accuracy\", \"test_accuracy\"]]"
      ],
      "id": "Y7I4y1QRmzYW",
      "execution_count": 133,
      "outputs": [
        {
          "output_type": "execute_result",
          "data": {
            "text/html": [
              "<div>\n",
              "<style scoped>\n",
              "    .dataframe tbody tr th:only-of-type {\n",
              "        vertical-align: middle;\n",
              "    }\n",
              "\n",
              "    .dataframe tbody tr th {\n",
              "        vertical-align: top;\n",
              "    }\n",
              "\n",
              "    .dataframe thead th {\n",
              "        text-align: right;\n",
              "    }\n",
              "</style>\n",
              "<table border=\"1\" class=\"dataframe\">\n",
              "  <thead>\n",
              "    <tr style=\"text-align: right;\">\n",
              "      <th></th>\n",
              "      <th>train_balanced_accuracy</th>\n",
              "      <th>train_accuracy</th>\n",
              "      <th>test_balanced_accuracy</th>\n",
              "      <th>test_accuracy</th>\n",
              "    </tr>\n",
              "  </thead>\n",
              "  <tbody>\n",
              "    <tr>\n",
              "      <th>Baseline Model</th>\n",
              "      <td>0.50000</td>\n",
              "      <td>0.88302</td>\n",
              "      <td>0.50000</td>\n",
              "      <td>0.88302</td>\n",
              "    </tr>\n",
              "    <tr>\n",
              "      <th>Logistic Regression</th>\n",
              "      <td>0.58167</td>\n",
              "      <td>0.89241</td>\n",
              "      <td>0.58090</td>\n",
              "      <td>0.89209</td>\n",
              "    </tr>\n",
              "    <tr>\n",
              "      <th>LinearSVC</th>\n",
              "      <td>0.56865</td>\n",
              "      <td>0.84865</td>\n",
              "      <td>0.56569</td>\n",
              "      <td>0.84674</td>\n",
              "    </tr>\n",
              "    <tr>\n",
              "      <th>RandomForestClassifier</th>\n",
              "      <td>0.99979</td>\n",
              "      <td>0.99995</td>\n",
              "      <td>0.60300</td>\n",
              "      <td>0.89184</td>\n",
              "    </tr>\n",
              "    <tr>\n",
              "      <th>DecisionTreeClassifier</th>\n",
              "      <td>1.00000</td>\n",
              "      <td>1.00000</td>\n",
              "      <td>0.61565</td>\n",
              "      <td>0.82836</td>\n",
              "    </tr>\n",
              "    <tr>\n",
              "      <th>GradientBoostingClassifier</th>\n",
              "      <td>0.60622</td>\n",
              "      <td>0.89861</td>\n",
              "      <td>0.59524</td>\n",
              "      <td>0.89424</td>\n",
              "    </tr>\n",
              "    <tr>\n",
              "      <th>HistGradientBoostingClassifier</th>\n",
              "      <td>0.63633</td>\n",
              "      <td>0.90566</td>\n",
              "      <td>0.60528</td>\n",
              "      <td>0.89350</td>\n",
              "    </tr>\n",
              "    <tr>\n",
              "      <th>HistGradientBoostingClassifier (Native Handling of Categorical Features)</th>\n",
              "      <td>0.64318</td>\n",
              "      <td>0.90794</td>\n",
              "      <td>0.60709</td>\n",
              "      <td>0.89399</td>\n",
              "    </tr>\n",
              "    <tr>\n",
              "      <th>LogisticRegression (Random Oversampling)</th>\n",
              "      <td>0.69941</td>\n",
              "      <td>0.74036</td>\n",
              "      <td>0.69490</td>\n",
              "      <td>0.73855</td>\n",
              "    </tr>\n",
              "    <tr>\n",
              "      <th>RandomForestClassifier (Random Oversampling)</th>\n",
              "      <td>1.00000</td>\n",
              "      <td>1.00000</td>\n",
              "      <td>0.63639</td>\n",
              "      <td>0.88526</td>\n",
              "    </tr>\n",
              "    <tr>\n",
              "      <th>DecisionTreeClassifier (Random Oversampling)</th>\n",
              "      <td>1.00000</td>\n",
              "      <td>1.00000</td>\n",
              "      <td>0.60668</td>\n",
              "      <td>0.83532</td>\n",
              "    </tr>\n",
              "    <tr>\n",
              "      <th>HistGradientBoostingClassifier (Random Oversampling)</th>\n",
              "      <td>0.79600</td>\n",
              "      <td>0.84974</td>\n",
              "      <td>0.73347</td>\n",
              "      <td>0.82714</td>\n",
              "    </tr>\n",
              "    <tr>\n",
              "      <th>HistGradientBoostingClassifier (Random Sampling &amp; Native Handling of Categorical Features)</th>\n",
              "      <td>0.80609</td>\n",
              "      <td>0.85561</td>\n",
              "      <td>0.73395</td>\n",
              "      <td>0.83015</td>\n",
              "    </tr>\n",
              "    <tr>\n",
              "      <th>LogisticRegression (SMOTE-NC)</th>\n",
              "      <td>0.66619</td>\n",
              "      <td>0.72433</td>\n",
              "      <td>0.66301</td>\n",
              "      <td>0.72224</td>\n",
              "    </tr>\n",
              "    <tr>\n",
              "      <th>RandomForestClassifier (SMOTE-NC)</th>\n",
              "      <td>0.99979</td>\n",
              "      <td>0.99994</td>\n",
              "      <td>0.67529</td>\n",
              "      <td>0.86397</td>\n",
              "    </tr>\n",
              "    <tr>\n",
              "      <th>DecisionTreeClassifier (SMOTE-NC)</th>\n",
              "      <td>1.00000</td>\n",
              "      <td>1.00000</td>\n",
              "      <td>0.62261</td>\n",
              "      <td>0.80806</td>\n",
              "    </tr>\n",
              "    <tr>\n",
              "      <th>HistGradientBoostingClassifier (SMOTE-NC)</th>\n",
              "      <td>0.67814</td>\n",
              "      <td>0.89581</td>\n",
              "      <td>0.65547</td>\n",
              "      <td>0.88509</td>\n",
              "    </tr>\n",
              "    <tr>\n",
              "      <th>HistGradientBoostingClassifier (SMOTE-NC &amp; Native Handling of Categorical Features)</th>\n",
              "      <td>0.69109</td>\n",
              "      <td>0.89582</td>\n",
              "      <td>0.66243</td>\n",
              "      <td>0.88271</td>\n",
              "    </tr>\n",
              "  </tbody>\n",
              "</table>\n",
              "</div>"
            ],
            "text/plain": [
              "                                                    train_balanced_accuracy  ...  test_accuracy\n",
              "Baseline Model                                                      0.50000  ...        0.88302\n",
              "Logistic Regression                                                 0.58167  ...        0.89209\n",
              "LinearSVC                                                           0.56865  ...        0.84674\n",
              "RandomForestClassifier                                              0.99979  ...        0.89184\n",
              "DecisionTreeClassifier                                              1.00000  ...        0.82836\n",
              "GradientBoostingClassifier                                          0.60622  ...        0.89424\n",
              "HistGradientBoostingClassifier                                      0.63633  ...        0.89350\n",
              "HistGradientBoostingClassifier (Native Handling...                  0.64318  ...        0.89399\n",
              "LogisticRegression (Random Oversampling)                            0.69941  ...        0.73855\n",
              "RandomForestClassifier (Random Oversampling)                        1.00000  ...        0.88526\n",
              "DecisionTreeClassifier (Random Oversampling)                        1.00000  ...        0.83532\n",
              "HistGradientBoostingClassifier (Random Oversamp...                  0.79600  ...        0.82714\n",
              "HistGradientBoostingClassifier (Random Sampling...                  0.80609  ...        0.83015\n",
              "LogisticRegression (SMOTE-NC)                                       0.66619  ...        0.72224\n",
              "RandomForestClassifier (SMOTE-NC)                                   0.99979  ...        0.86397\n",
              "DecisionTreeClassifier (SMOTE-NC)                                   1.00000  ...        0.80806\n",
              "HistGradientBoostingClassifier (SMOTE-NC)                           0.67814  ...        0.88509\n",
              "HistGradientBoostingClassifier (SMOTE-NC & Nati...                  0.69109  ...        0.88271\n",
              "\n",
              "[18 rows x 4 columns]"
            ]
          },
          "metadata": {
            "tags": []
          },
          "execution_count": 133
        }
      ]
    },
    {
      "cell_type": "code",
      "metadata": {
        "colab": {
          "base_uri": "https://localhost:8080/",
          "height": 687
        },
        "id": "BHcMGySFt21D",
        "outputId": "3601010f-f198-4e15-86a7-aa36d2b37aac"
      },
      "source": [
        "oversample_hist.dropna().sort_values(\"test_balanced_accuracy\")"
      ],
      "id": "BHcMGySFt21D",
      "execution_count": 124,
      "outputs": [
        {
          "output_type": "execute_result",
          "data": {
            "text/html": [
              "<div>\n",
              "<style scoped>\n",
              "    .dataframe tbody tr th:only-of-type {\n",
              "        vertical-align: middle;\n",
              "    }\n",
              "\n",
              "    .dataframe tbody tr th {\n",
              "        vertical-align: top;\n",
              "    }\n",
              "\n",
              "    .dataframe thead th {\n",
              "        text-align: right;\n",
              "    }\n",
              "</style>\n",
              "<table border=\"1\" class=\"dataframe\">\n",
              "  <thead>\n",
              "    <tr style=\"text-align: right;\">\n",
              "      <th></th>\n",
              "      <th>Standard Error of Balanced Accuracy</th>\n",
              "      <th>test_accuracy</th>\n",
              "      <th>test_balanced_accuracy</th>\n",
              "      <th>train_accuracy</th>\n",
              "      <th>train_balanced_accuracy</th>\n",
              "    </tr>\n",
              "  </thead>\n",
              "  <tbody>\n",
              "    <tr>\n",
              "      <th>Baseline Model</th>\n",
              "      <td>0.000000</td>\n",
              "      <td>0.88302</td>\n",
              "      <td>0.50000</td>\n",
              "      <td>0.88302</td>\n",
              "      <td>0.50000</td>\n",
              "    </tr>\n",
              "    <tr>\n",
              "      <th>LinearSVC</th>\n",
              "      <td>0.018604</td>\n",
              "      <td>0.84674</td>\n",
              "      <td>0.56569</td>\n",
              "      <td>0.84865</td>\n",
              "      <td>0.56865</td>\n",
              "    </tr>\n",
              "    <tr>\n",
              "      <th>Logistic Regression</th>\n",
              "      <td>0.002290</td>\n",
              "      <td>0.89209</td>\n",
              "      <td>0.58090</td>\n",
              "      <td>0.89241</td>\n",
              "      <td>0.58167</td>\n",
              "    </tr>\n",
              "    <tr>\n",
              "      <th>GradientBoostingClassifier</th>\n",
              "      <td>0.002567</td>\n",
              "      <td>0.89424</td>\n",
              "      <td>0.59524</td>\n",
              "      <td>0.89861</td>\n",
              "      <td>0.60622</td>\n",
              "    </tr>\n",
              "    <tr>\n",
              "      <th>RandomForestClassifier</th>\n",
              "      <td>0.003891</td>\n",
              "      <td>0.89184</td>\n",
              "      <td>0.60300</td>\n",
              "      <td>0.99995</td>\n",
              "      <td>0.99979</td>\n",
              "    </tr>\n",
              "    <tr>\n",
              "      <th>HistGradientBoostingClassifier</th>\n",
              "      <td>0.003927</td>\n",
              "      <td>0.89350</td>\n",
              "      <td>0.60528</td>\n",
              "      <td>0.90566</td>\n",
              "      <td>0.63633</td>\n",
              "    </tr>\n",
              "    <tr>\n",
              "      <th>DecisionTreeClassifier (Random Oversampling)</th>\n",
              "      <td>0.003238</td>\n",
              "      <td>0.83532</td>\n",
              "      <td>0.60668</td>\n",
              "      <td>1.00000</td>\n",
              "      <td>1.00000</td>\n",
              "    </tr>\n",
              "    <tr>\n",
              "      <th>HistGradientBoostingClassifier (Native Handling of Categorical Features)</th>\n",
              "      <td>0.004190</td>\n",
              "      <td>0.89399</td>\n",
              "      <td>0.60709</td>\n",
              "      <td>0.90794</td>\n",
              "      <td>0.64318</td>\n",
              "    </tr>\n",
              "    <tr>\n",
              "      <th>DecisionTreeClassifier</th>\n",
              "      <td>0.005984</td>\n",
              "      <td>0.82836</td>\n",
              "      <td>0.61565</td>\n",
              "      <td>1.00000</td>\n",
              "      <td>1.00000</td>\n",
              "    </tr>\n",
              "    <tr>\n",
              "      <th>DecisionTreeClassifier (SMOTE-NC)</th>\n",
              "      <td>0.003095</td>\n",
              "      <td>0.80806</td>\n",
              "      <td>0.62261</td>\n",
              "      <td>1.00000</td>\n",
              "      <td>1.00000</td>\n",
              "    </tr>\n",
              "    <tr>\n",
              "      <th>RandomForestClassifier (Random Oversampling)</th>\n",
              "      <td>0.005062</td>\n",
              "      <td>0.88526</td>\n",
              "      <td>0.63639</td>\n",
              "      <td>1.00000</td>\n",
              "      <td>1.00000</td>\n",
              "    </tr>\n",
              "    <tr>\n",
              "      <th>HistGradientBoostingClassifier (SMOTE-NC)</th>\n",
              "      <td>0.005894</td>\n",
              "      <td>0.88509</td>\n",
              "      <td>0.65547</td>\n",
              "      <td>0.89581</td>\n",
              "      <td>0.67814</td>\n",
              "    </tr>\n",
              "    <tr>\n",
              "      <th>HistGradientBoostingClassifier (SMOTE-NC &amp; Native Handling of Categorical Features)</th>\n",
              "      <td>0.004700</td>\n",
              "      <td>0.88271</td>\n",
              "      <td>0.66243</td>\n",
              "      <td>0.89582</td>\n",
              "      <td>0.69109</td>\n",
              "    </tr>\n",
              "    <tr>\n",
              "      <th>LogisticRegression (SMOTE-NC)</th>\n",
              "      <td>0.001722</td>\n",
              "      <td>0.72224</td>\n",
              "      <td>0.66301</td>\n",
              "      <td>0.72433</td>\n",
              "      <td>0.66619</td>\n",
              "    </tr>\n",
              "    <tr>\n",
              "      <th>RandomForestClassifier (SMOTE-NC)</th>\n",
              "      <td>0.005045</td>\n",
              "      <td>0.86397</td>\n",
              "      <td>0.67529</td>\n",
              "      <td>0.99994</td>\n",
              "      <td>0.99979</td>\n",
              "    </tr>\n",
              "    <tr>\n",
              "      <th>LogisticRegression (Random Oversampling)</th>\n",
              "      <td>0.002750</td>\n",
              "      <td>0.73855</td>\n",
              "      <td>0.69490</td>\n",
              "      <td>0.74036</td>\n",
              "      <td>0.69941</td>\n",
              "    </tr>\n",
              "    <tr>\n",
              "      <th>HistGradientBoostingClassifier (Random Oversampling)</th>\n",
              "      <td>0.002048</td>\n",
              "      <td>0.82714</td>\n",
              "      <td>0.73347</td>\n",
              "      <td>0.84974</td>\n",
              "      <td>0.79600</td>\n",
              "    </tr>\n",
              "    <tr>\n",
              "      <th>HistGradientBoostingClassifier (Random Sampling &amp; Native Handling of Categorical Features)</th>\n",
              "      <td>0.002249</td>\n",
              "      <td>0.83015</td>\n",
              "      <td>0.73395</td>\n",
              "      <td>0.85561</td>\n",
              "      <td>0.80609</td>\n",
              "    </tr>\n",
              "  </tbody>\n",
              "</table>\n",
              "</div>"
            ],
            "text/plain": [
              "                                                    Standard Error of Balanced Accuracy  ...  train_balanced_accuracy\n",
              "Baseline Model                                                                 0.000000  ...                  0.50000\n",
              "LinearSVC                                                                      0.018604  ...                  0.56865\n",
              "Logistic Regression                                                            0.002290  ...                  0.58167\n",
              "GradientBoostingClassifier                                                     0.002567  ...                  0.60622\n",
              "RandomForestClassifier                                                         0.003891  ...                  0.99979\n",
              "HistGradientBoostingClassifier                                                 0.003927  ...                  0.63633\n",
              "DecisionTreeClassifier (Random Oversampling)                                   0.003238  ...                  1.00000\n",
              "HistGradientBoostingClassifier (Native Handling...                             0.004190  ...                  0.64318\n",
              "DecisionTreeClassifier                                                         0.005984  ...                  1.00000\n",
              "DecisionTreeClassifier (SMOTE-NC)                                              0.003095  ...                  1.00000\n",
              "RandomForestClassifier (Random Oversampling)                                   0.005062  ...                  1.00000\n",
              "HistGradientBoostingClassifier (SMOTE-NC)                                      0.005894  ...                  0.67814\n",
              "HistGradientBoostingClassifier (SMOTE-NC & Nati...                             0.004700  ...                  0.69109\n",
              "LogisticRegression (SMOTE-NC)                                                  0.001722  ...                  0.66619\n",
              "RandomForestClassifier (SMOTE-NC)                                              0.005045  ...                  0.99979\n",
              "LogisticRegression (Random Oversampling)                                       0.002750  ...                  0.69941\n",
              "HistGradientBoostingClassifier (Random Oversamp...                             0.002048  ...                  0.79600\n",
              "HistGradientBoostingClassifier (Random Sampling...                             0.002249  ...                  0.80609\n",
              "\n",
              "[18 rows x 5 columns]"
            ]
          },
          "metadata": {
            "tags": []
          },
          "execution_count": 124
        }
      ]
    },
    {
      "cell_type": "markdown",
      "metadata": {
        "id": "_A9uCr6BohEO"
      },
      "source": [
        "### Hyperparameter Tuning"
      ],
      "id": "_A9uCr6BohEO"
    },
    {
      "cell_type": "code",
      "metadata": {
        "id": "j1Wd3Q1ako8F"
      },
      "source": [
        "from yellowbrick.model_selection import validation_curve"
      ],
      "id": "j1Wd3Q1ako8F",
      "execution_count": 127,
      "outputs": []
    },
    {
      "cell_type": "code",
      "metadata": {
        "id": "ZR-ooWQ4jkH4"
      },
      "source": [
        "param_randomoversample = {\n",
        "    \"Random Oversampling__sampling_strategy\" : [0.3, 0.4, 0.5, 0.6, 0.7, 0.8, 0.9]\n",
        "}\n",
        "categorical_features_mask = [False] * len(numerical_features) + [True] * len(categorical_features)\n",
        "clf = Pipeline([\n",
        "    (\"Data Preprocessing\", ColumnTransformer([\n",
        "                                                     (\"Handle Numerical Features\", numerical_transformers, numerical_features),\n",
        "                                                     (\"Handle Categorical Features\", OrdinalEncoder(), categorical_features)])),\n",
        "    (\"Random Oversampling\", RandomOverSampler(random_state=random_state)),\n",
        "    ('Model', HistGradientBoostingClassifier(random_state=random_state, categorical_features=categorical_features_mask))\n",
        "])\n"
      ],
      "id": "ZR-ooWQ4jkH4",
      "execution_count": 128,
      "outputs": []
    },
    {
      "cell_type": "code",
      "metadata": {
        "id": "hpxZ2c2ynWtw"
      },
      "source": [
        "plt.style.use(\"classic\")"
      ],
      "id": "hpxZ2c2ynWtw",
      "execution_count": 131,
      "outputs": []
    },
    {
      "cell_type": "code",
      "metadata": {
        "colab": {
          "base_uri": "https://localhost:8080/",
          "height": 1000
        },
        "id": "pJnzJfsxktPU",
        "outputId": "2e502f36-28cf-44c0-91e4-5ec57ee785db"
      },
      "source": [
        "validation_curve(clf, X_train, y_train, \"Random Oversampling__sampling_strategy\", [0.3, 0.4, 0.5, 0.6, 0.7, 0.8, 0.9], scoring=\"balanced_accuracy\")"
      ],
      "id": "pJnzJfsxktPU",
      "execution_count": 132,
      "outputs": [
        {
          "output_type": "display_data",
          "data": {
            "image/png": "[encoded data removed]",
            "text/plain": [
              "<Figure size 640x480 with 1 Axes>"
            ]
          },
          "metadata": {
            "tags": []
          }
        },
        {
          "output_type": "execute_result",
          "data": {
            "text/plain": [
              "ValidationCurve(ax=<matplotlib.axes._subplots.AxesSubplot object at 0x7f3661472550>,\n",
              "                estimator=Pipeline(steps=[('Data Preprocessing',\n",
              "                                           ColumnTransformer(transformers=[('Handle '\n",
              "                                                                            'Numerical '\n",
              "                                                                            'Features',\n",
              "                                                                            Pipeline(steps=[('Robust '\n",
              "                                                                                             'Scaler',\n",
              "                                                                                             RobustScaler())]),\n",
              "                                                                            ['age',\n",
              "                                                                             'balance',\n",
              "                                                                             'day',\n",
              "                                                                             'campaign',\n",
              "                                                                             'pdays',\n",
              "                                                                             'previous']),\n",
              "                                                                           ('Handle '\n",
              "                                                                            'Categorical '\n",
              "                                                                            'Features',\n",
              "                                                                            OrdinalEncoder(),\n",
              "                                                                            ['...\n",
              "                                           RandomOverSampler(random_state=RandomState(MT19937) at 0x7F3662C527C0)),\n",
              "                                          ('Model',\n",
              "                                           HistGradientBoostingClassifier(categorical_features=[False,\n",
              "                                                                                                False,\n",
              "                                                                                                False,\n",
              "                                                                                                False,\n",
              "                                                                                                False,\n",
              "                                                                                                False,\n",
              "                                                                                                True,\n",
              "                                                                                                True,\n",
              "                                                                                                True,\n",
              "                                                                                                True,\n",
              "                                                                                                True,\n",
              "                                                                                                True,\n",
              "                                                                                                True,\n",
              "                                                                                                True,\n",
              "                                                                                                True],\n",
              "                                                                          random_state=RandomState(MT19937) at 0x7F3662C527C0))]),\n",
              "                param_name='Random Oversampling__sampling_strategy',\n",
              "                param_range=array([0.3, 0.4, 0.5, 0.6, 0.7, 0.8, 0.9]),\n",
              "                scoring='balanced_accuracy')"
            ]
          },
          "metadata": {
            "tags": []
          },
          "execution_count": 132
        }
      ]
    },
    {
      "cell_type": "markdown",
      "metadata": {
        "id": "qjtSUPr7osrF"
      },
      "source": [
        "## Model Evaluation"
      ],
      "id": "qjtSUPr7osrF"
    },
    {
      "cell_type": "code",
      "metadata": {
        "colab": {
          "base_uri": "https://localhost:8080/"
        },
        "id": "obqAIQiSqCU-",
        "outputId": "e5212491-775f-48e8-8597-34eb22bc46aa"
      },
      "source": [
        "categorical_features_mask = [False] * len(numerical_features) + [True] * len(categorical_features)\n",
        "clf = Pipeline([\n",
        "    (\"Data Preprocessing\", ColumnTransformer([\n",
        "                                                     (\"Handle Numerical Features\", numerical_transformers, numerical_features),\n",
        "                                                     (\"Handle Categorical Features\", OrdinalEncoder(), categorical_features)])),\n",
        "    (\"Random Oversampling\", RandomOverSampler(random_state=random_state)),\n",
        "    ('Model', HistGradientBoostingClassifier(random_state=random_state, categorical_features=categorical_features_mask))\n",
        "])\n",
        "clf.fit(X_train , y_train)"
      ],
      "id": "obqAIQiSqCU-",
      "execution_count": 135,
      "outputs": [
        {
          "output_type": "execute_result",
          "data": {
            "text/plain": [
              "Pipeline(steps=[('Data Preprocessing',\n",
              "                 ColumnTransformer(transformers=[('Handle Numerical Features',\n",
              "                                                  Pipeline(steps=[('Robust '\n",
              "                                                                   'Scaler',\n",
              "                                                                   RobustScaler())]),\n",
              "                                                  ['age', 'balance', 'day',\n",
              "                                                   'campaign', 'pdays',\n",
              "                                                   'previous']),\n",
              "                                                 ('Handle Categorical Features',\n",
              "                                                  OrdinalEncoder(),\n",
              "                                                  ['job', 'marital',\n",
              "                                                   'education', 'default',\n",
              "                                                   'housing', 'loan', 'contact',\n",
              "                                                   'month', 'poutcome'])])),\n",
              "                ('Random Oversampling',\n",
              "                 RandomOverSampler(random_state=RandomState(MT19937) at 0x7F3662C527C0)),\n",
              "                ('Model',\n",
              "                 HistGradientBoostingClassifier(categorical_features=[False,\n",
              "                                                                      False,\n",
              "                                                                      False,\n",
              "                                                                      False,\n",
              "                                                                      False,\n",
              "                                                                      False,\n",
              "                                                                      True,\n",
              "                                                                      True,\n",
              "                                                                      True,\n",
              "                                                                      True,\n",
              "                                                                      True,\n",
              "                                                                      True,\n",
              "                                                                      True,\n",
              "                                                                      True,\n",
              "                                                                      True],\n",
              "                                                random_state=RandomState(MT19937) at 0x7F3662C527C0))])"
            ]
          },
          "metadata": {
            "tags": []
          },
          "execution_count": 135
        }
      ]
    },
    {
      "cell_type": "code",
      "metadata": {
        "id": "rmm0KFzervqa"
      },
      "source": [
        "from sklearn.metrics import balanced_accuracy_score"
      ],
      "id": "rmm0KFzervqa",
      "execution_count": 136,
      "outputs": []
    },
    {
      "cell_type": "code",
      "metadata": {
        "id": "iHRL0U0Fr7Z2"
      },
      "source": [
        "y_pred = clf.predict(X_test)"
      ],
      "id": "iHRL0U0Fr7Z2",
      "execution_count": 137,
      "outputs": []
    },
    {
      "cell_type": "code",
      "metadata": {
        "colab": {
          "base_uri": "https://localhost:8080/"
        },
        "id": "UafRQKiar9yg",
        "outputId": "963e0fe8-3aab-4e8a-c9e9-99de9647ce4a"
      },
      "source": [
        "balanced_accuracy_score(y_test, y_pred)"
      ],
      "id": "UafRQKiar9yg",
      "execution_count": 138,
      "outputs": [
        {
          "output_type": "execute_result",
          "data": {
            "text/plain": [
              "0.7380655837445683"
            ]
          },
          "metadata": {
            "tags": []
          },
          "execution_count": 138
        }
      ]
    },
    {
      "cell_type": "code",
      "metadata": {
        "colab": {
          "base_uri": "https://localhost:8080/"
        },
        "id": "jwSBdKhdsAWK",
        "outputId": "a28c58ba-82f3-47a4-98bb-bde3a93543b5"
      },
      "source": [
        "confusion_matrix(y_test, y_pred)"
      ],
      "id": "jwSBdKhdsAWK",
      "execution_count": 139,
      "outputs": [
        {
          "output_type": "execute_result",
          "data": {
            "text/plain": [
              "array([[6851, 1134],\n",
              "       [ 404,  654]])"
            ]
          },
          "metadata": {
            "tags": []
          },
          "execution_count": 139
        }
      ]
    }
  ]
}