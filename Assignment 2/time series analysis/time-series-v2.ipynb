{
 "cells": [
  {
   "cell_type": "markdown",
   "source": [
    "# AIML Assignment 2: Time Series Analysis on Pollutant Gases\n",
    "## Problem Statement\n",
    "![Air Pollution](https://assets.nrdc.org/sites/default/files/styles/header_background/public/health4_26_airpollguide_istock_2796602_900x600px.jpg?itok=vCwn8tgz)\n",
    "\n",
    "Air pollution is a problem that affects major cities around the world. There are many different types of air pollutants, which usually come in the form of gases like carbon monoxide, carbon dioxide, sulfur dioxide, nitrogen oxides, CFCss, and other chemicals. \n",
    "\n",
    "Bad air quality in cities can lead to health problems for residents living there, including respiratory diseases and even death. In fact, according to the World Health Organisation, air pollution accounts for 4.2 million deaths every year [[1]](https://www.who.int/health-topics/air-pollution#tab=tab_1). To keep track of air pollution, governments invest heavily in sensors, which are used to measure the level of air pollution of different pollutants. However, good quality sensors are expensive, and thus governments rely on cheap sensors which have low accuracy. [[2]](https://ink.library.smu.edu.sg/cgi/viewcontent.cgi?article=5536&context=sis_research)\n",
    "\n",
    "Our task is to create a time series model that is capable of forecasting air pollution levels. If our model can forecast air pollution data with a reasonable accuracy, it would be a valuable tool (more accurate than low quality sensors) for health authorities to guage the impact of air pollution, and warn the public of any health threats. \n",
    "\n",
    "To be more concrete, our task is to predict the average sensor response of Carbon Monoxide, Non Metanic HydroCarbons, Nitrogen Oxides, and Ozone. (Note that sensor response is not the same as the concentration.)\n",
    "\n",
    "### Carbon Monoxide (CO)\n",
    "Carbon monoxide (CO)—a colorless, odorless, tasteless, and toxic air pollutant—is produced in the incomplete combustion of carbon-containing fuels, such as gasoline, natural gas, oil, coal, and wood. Breathing the high concentrations of CO typical of a polluted environment leads to reduced oxygen (O2) transport by hemoglobin and has health effects that include headaches, increased risk of chest pain for persons with heart disease, and impaired reaction timing. [[3]](https://www.nap.edu/read/10378/chapter/3)\n",
    "\n",
    "## Data Understanding\n",
    "The dataset appears to be sourced from the [UCI Machine Learning Repository](https://archive.ics.uci.edu/ml/datasets/Air+Quality), but with data downsampled from an hourly frequency to a daily frequency, and several features omitted. The description and date range of the data appears to match up, the scales of the data are the same,and even the method of marking missing values is the same. Furthermore, downsampling that dataset leads to a dataset that has a similar size as the one provided. \n",
    "\n",
    "If we make an assumption that the data set is the same, we can say that the data was collected from chemical sensor data collected over the course of March 2004 to February 2005. [[4]](https://www.sciencedirect.com/science/article/abs/pii/S0925400507007691?via%3Dihub)\n",
    "\n",
    "![Operation of a MOS Type Gas Sensor](https://www.figaro.co.jp/en/img/development/handoutai/shikumi.gif)\n",
    "\n",
    "The sensors used are metal oxide sensors, which use a sensing layer, where gases are either absorbed or desorbed. This reaction causes a change in the conductivity of the material. [[4]](https://www.sciencedirect.com/science/article/abs/pii/S0925400507007691?via%3Dihub). The sensor device then uses this reading to estimate the concentration of that particular gas in the surroundings.\n",
    "\n",
    "Our dataset contains the following attributes:\n",
    "| Attribute | Description |\n",
    "|---|---|\n",
    "| Date | Day/Month/Year Format, which is different from default Pandas format |\n",
    "| T | Temperature in Degree Celcius |\n",
    "| RH | Relative Humidity (%) |\n",
    "| Gas | Type of Gas Measured: CO (Carbon Monoxide), NMHC (Non Metanic HydroCarbons), NOx (Nitrogen Oxides), O3 (Ozone) |\n",
    "| Value | Daily Averaged Estimated Concentration of Pollutants. Note that the concentration for Carbon Monoxide would be in a different unit |\n",
    "\n",
    "Our target attribute would be the `Value` attribute.\n",
    "## References\n",
    "- AIML Module Notes\n",
    "- Hyndman, R.J., & Athanasopoulos, G. (2021) Forecasting: principles and practice, 3rd edition, OTexts: Melbourne, Australia. OTexts.com/fpp3. \n",
    "- Statsmodels Documentation\n",
    "- Pandas documentation\n",
    "- Scikit Learn documentation\n",
    "- Wiley Data Analyst Time Series and Forecasting Notes\n",
    "- [World Health Organisation](https://www.who.int/health-topics/air-pollution#tab=tab_1)\n",
    "- MAAH, Balz; ZHOU, Zimu; and THIELE, Lothar. A survey on sensor calibration in air pollution monitoring \n",
    "deployments. (2018). IEEE Internet of Things. 5, (6), 4857-4870. Research Collection School Of \n",
    "Information Systems. \n",
    "- [UCI Machine Learning Repository](https://archive.ics.uci.edu/ml/datasets/Air+Quality)\n",
    "- [S. De Vito, E. Massera, M. Piga, L. Martinotto, G. Di Francia,\n",
    "On field calibration of an electronic nose for benzene estimation in an urban pollution monitoring scenario](https://www.researchgate.net/publication/235641830_On_field_calibration_of_an_electronic_nose_for_benzene_estimation_in_an_urban_pollution_monitoring_scenario)\n",
    "- [Climate of Italy](https://en.wikipedia.org/wiki/Climate_of_Italy)\n",
    "- [Nitrogen Oxide Emission Trends for Italy](https://www.statista.com/statistics/809161/nitrogen-oxides-nox-emission-trend-in-italy/)\n",
    "- [NOx Emissions - European Environment Agency](https://www.eea.europa.eu/data-and-maps/indicators/eea-32-nitrogen-oxides-nox-emissions-1/assessment.2010-08-19.0140149032-3#:~:text=The%20sectors%20responsible%20for%20the,distribution%27%20(contributing%2027%25).)\n",
    "- [Effect of Environmental Temperature and Humidity\n",
    "on Different Metal Oxide Gas Sensors at Various\n",
    "Gas Concentration Levels, Abdulnasser Nabil Abdullah et al 2020 IOP Conf. Ser.: Mater. Sci. Eng. 864\n",
    "012152](https://iopscience.iop.org/article/10.1088/1757-899X/864/1/012152/pdf)\n",
    "- [Choosing the order of an ARIMA model](https://arauto.readthedocs.io/en/latest/how_to_choose_terms.html#the-acf-and-pacf-function)"
   ],
   "metadata": {}
  },
  {
   "cell_type": "markdown",
   "source": [
    "## Library Imports"
   ],
   "metadata": {}
  },
  {
   "cell_type": "code",
   "execution_count": null,
   "source": [
    "# Utility\n",
    "from os import path # We use this to check if a file exists\n",
    "from tqdm import tqdm # Use this to track how much time each iter of a for loop takes\n",
    "import warnings # Statsmodels likes to throw out warnings. Some of them are important, some are not\n",
    "from statsmodels.tools.sm_exceptions import *\n",
    "from collections import defaultdict \n",
    "from statsmodels.api import load # load serialized models\n",
    "\n",
    "# Statistical Analysis\n",
    "## General\n",
    "import numpy as np\n",
    "import pandas as pd\n",
    "\n",
    "## Time Series\n",
    "from statsmodels.tsa.seasonal import STL, seasonal_decompose\n",
    "from statsmodels.tsa.stattools import adfuller, kpss\n",
    "from statsmodels.tsa.statespace.tools import diff\n",
    "from statsmodels.tsa.arima.model import ARIMA\n",
    "from statsmodels.tsa.statespace.sarimax import SARIMAX\n",
    "from statsmodels.tsa.holtwinters import ExponentialSmoothing, Holt\n",
    "\n",
    "## Model Validation\n",
    "from sklearn.model_selection import TimeSeriesSplit\n",
    "from sklearn.metrics import mean_squared_error\n",
    "\n",
    "\n",
    "# Graphical Plots\n",
    "import matplotlib.pyplot as plt\n",
    "import matplotlib.gridspec as gridspec\n",
    "import seaborn as sns\n",
    "import plotly.express as px\n",
    "import plotly.graph_objects as go\n",
    "from statsmodels.graphics.tsaplots import plot_acf, plot_pacf\n",
    "\n",
    "sns.set()\n",
    "plt.rcParams['figure.figsize'] = (13, 8)"
   ],
   "outputs": [],
   "metadata": {}
  },
  {
   "cell_type": "markdown",
   "source": [
    "## Data Ingestion\n",
    "We will start out by loading in our data. We must take note here that the date formatting of the data does not follow the standard Pandas convention. As such, we must specify the date formatting to convert the date attribute to a datetime.\n",
    "\n",
    "Since many Pandas time series methods only work if the index of our data is a time series, we will set the date attribute as the index.\n",
    "\n",
    "Also, we will set all -200 values as missing values, as specified in the dataset source."
   ],
   "metadata": {}
  },
  {
   "cell_type": "code",
   "execution_count": null,
   "source": [
    "df = pd.read_csv(\"train.csv\", na_values=[-200])\n",
    "df[\"Date\"] = pd.to_datetime(df[\"Date\"], format=\"%d/%m/%Y\")\n",
    "df.set_index(\"Date\", inplace=True)\n",
    "df.head()"
   ],
   "outputs": [],
   "metadata": {}
  },
  {
   "cell_type": "markdown",
   "source": [
    "### Pivoting from Long to Wide Format\n",
    "The form of our data is in a long format. For easier analysis later, we will pivot the data to a wide format, with a column for each row."
   ],
   "metadata": {}
  },
  {
   "cell_type": "code",
   "execution_count": null,
   "source": [
    "df_pivot = pd.pivot(df, values=\"Value\", columns=\"Gas\")\n",
    "df_pivot[[\"T\", \"RH\"]] = df[[\"T\", \"RH\"]].groupby(df.index).mean()"
   ],
   "outputs": [],
   "metadata": {}
  },
  {
   "cell_type": "markdown",
   "source": [
    "## Exploratory Data Analysis\n",
    "\n",
    "We then perform an exploratory data analysis of our data. \n",
    "\n",
    "### What do we want to find out?\n",
    "#### General Dataset Information\n",
    "- How many rows of data are there?\n",
    "- What is the frequency of the time series data?\n",
    "- How many features are there, and what do they mean?\n",
    "- What are the data types of each attribute, and are they correctly represented?\n",
    "\n",
    "#### Missing Values\n",
    "- How many missing values are there?\n",
    "- Why are there missing values?\n",
    "- What should be done about the missing values?\n",
    "\n",
    "#### Distribution of Data\n",
    "- What does the distribution of our data look like, and what does it say about the data?\n",
    "\n",
    "#### Correlation\n",
    "- What are the relationships between the various variables?\n",
    "\n",
    "#### Time Series\n",
    "- Where are the outliers in the data?\n",
    "- What should be done about outliers?\n",
    "- What can be said about the trend and seasonality of the data?\n",
    "- Is the data stationary?"
   ],
   "metadata": {}
  },
  {
   "cell_type": "markdown",
   "source": [
    "## Data Pre-processing"
   ],
   "metadata": {}
  },
  {
   "cell_type": "markdown",
   "source": [
    "### Dealing with Missing Values and Outliers"
   ],
   "metadata": {}
  },
  {
   "cell_type": "markdown",
   "source": [
    "## Modelling\n",
    "\n",
    "### Evaluation Methodology"
   ],
   "metadata": {}
  },
  {
   "cell_type": "markdown",
   "source": [
    "### Utility Functions"
   ],
   "metadata": {}
  },
  {
   "cell_type": "markdown",
   "source": [
    "### Models"
   ],
   "metadata": {}
  },
  {
   "cell_type": "markdown",
   "source": [
    "#### Exponential Smoothing"
   ],
   "metadata": {}
  },
  {
   "cell_type": "markdown",
   "source": [
    "##### Model Analysis"
   ],
   "metadata": {}
  },
  {
   "cell_type": "markdown",
   "source": [
    "#### ARIMA"
   ],
   "metadata": {}
  },
  {
   "cell_type": "markdown",
   "source": [
    "##### Model Analysis"
   ],
   "metadata": {}
  },
  {
   "cell_type": "markdown",
   "source": [
    "#### SARIMA"
   ],
   "metadata": {}
  },
  {
   "cell_type": "markdown",
   "source": [
    "##### Model Analysis"
   ],
   "metadata": {}
  },
  {
   "cell_type": "markdown",
   "source": [
    "#### SARIMAX (Dynamic Regression)"
   ],
   "metadata": {}
  },
  {
   "cell_type": "markdown",
   "source": [
    "##### Model Analysis"
   ],
   "metadata": {}
  },
  {
   "cell_type": "markdown",
   "source": [
    "### Model Improvement"
   ],
   "metadata": {}
  },
  {
   "cell_type": "markdown",
   "source": [
    "#### Filtering Out Noise in the Data"
   ],
   "metadata": {}
  },
  {
   "cell_type": "markdown",
   "source": [
    "#### Treatment of Outliers"
   ],
   "metadata": {}
  },
  {
   "cell_type": "markdown",
   "source": [
    "#### Hyperparameter Tuning"
   ],
   "metadata": {}
  },
  {
   "cell_type": "markdown",
   "source": [
    "## Final Model"
   ],
   "metadata": {}
  },
  {
   "cell_type": "markdown",
   "source": [
    "### Analysis of Order"
   ],
   "metadata": {}
  },
  {
   "cell_type": "markdown",
   "source": [
    "### Analysis of Residuals"
   ],
   "metadata": {}
  },
  {
   "cell_type": "markdown",
   "source": [
    "## Generating Kaggle Predictions"
   ],
   "metadata": {}
  },
  {
   "cell_type": "markdown",
   "source": [
    "### Utility Functions"
   ],
   "metadata": {}
  },
  {
   "cell_type": "markdown",
   "source": [
    "### Submission"
   ],
   "metadata": {}
  }
 ],
 "metadata": {
  "orig_nbformat": 4,
  "language_info": {
   "name": "python"
  }
 },
 "nbformat": 4,
 "nbformat_minor": 2
}